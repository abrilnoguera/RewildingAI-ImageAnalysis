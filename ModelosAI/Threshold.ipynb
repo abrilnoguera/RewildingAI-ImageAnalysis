{
 "cells": [
  {
   "cell_type": "code",
   "execution_count": 1,
   "metadata": {},
   "outputs": [],
   "source": [
    "import pickle\n",
    "import os\n",
    "import numpy as np\n",
    "import pandas as pd\n",
    "import matplotlib.pyplot as plt\n",
    "import seaborn as sns\n",
    "import tensorflow as tf\n",
    "from sklearn.metrics import (accuracy_score, auc, average_precision_score,\n",
    "                             classification_report, confusion_matrix,\n",
    "                             precision_recall_curve, precision_score,\n",
    "                             recall_score, roc_curve)\n",
    "import kds\n",
    "from tensorflow.keras.models import load_model\n",
    "from tensorflow.keras.preprocessing.image import img_to_array\n"
   ]
  },
  {
   "cell_type": "code",
   "execution_count": 2,
   "metadata": {},
   "outputs": [],
   "source": [
    "test = pd.read_pickle('ArchivosUtiles/testingAnimal.pkl')"
   ]
  },
  {
   "cell_type": "code",
   "execution_count": 3,
   "metadata": {},
   "outputs": [],
   "source": [
    "X_test = test['Imagen']\n",
    "y_test = test['Animal']"
   ]
  },
  {
   "cell_type": "code",
   "execution_count": 4,
   "metadata": {},
   "outputs": [],
   "source": [
    "X_test_tf = tf.convert_to_tensor(np.array([img_to_array(img) for img in X_test]))"
   ]
  },
  {
   "cell_type": "code",
   "execution_count": 5,
   "metadata": {},
   "outputs": [],
   "source": [
    "model = load_model('ModelosFinales/modeloAnimalVGG16.h5')"
   ]
  },
  {
   "cell_type": "code",
   "execution_count": 6,
   "metadata": {},
   "outputs": [
    {
     "name": "stderr",
     "output_type": "stream",
     "text": [
      "2023-12-15 19:55:14.465967: W tensorflow/tsl/platform/profile_utils/cpu_utils.cc:128] Failed to get CPU frequency: 0 Hz\n"
     ]
    },
    {
     "name": "stdout",
     "output_type": "stream",
     "text": [
      "48/48 [==============================] - 48s 971ms/step\n"
     ]
    }
   ],
   "source": [
    "y_proba = model.predict(X_test_tf)\n",
    "y_pred = (y_proba >= 0.5).astype(int)"
   ]
  },
  {
   "cell_type": "code",
   "execution_count": 7,
   "metadata": {},
   "outputs": [],
   "source": [
    "def optimizar_umbral(y_test, y_proba, tarea, CFP=1000, CFN=300, CV=24.42, TV=0.579, img_dir='img_temp'):\n",
    "    # Crear directorio para imágenes temporales\n",
    "    if not os.path.exists(img_dir):\n",
    "        os.makedirs(img_dir)\n",
    "\n",
    "    #  Inicializacion de variables\n",
    "    limInf = 0\n",
    "    limSup = 1\n",
    "    CostoMin = float('inf')\n",
    "    Vop = 0\n",
    "    # Determinacion de costos.\n",
    "    if tarea == 'especie':\n",
    "        CE = CFP + CFN\n",
    "    else:\n",
    "        CE = (CFP + CFN) / 2\n",
    "\n",
    "    contador = 0\n",
    "    for umbral_inf in np.arange(0.01, 0.5, 0.01):\n",
    "        for umbral_sup in np.arange(0.5, 0.99, 0.01):\n",
    "            # Determina la cantidad de imagenes que caen entre los umbrales.\n",
    "            V = np.sum((y_proba >= umbral_inf) & (y_proba <= umbral_sup))\n",
    "            #  Costo generado por la validacion.\n",
    "            C = V * CV \n",
    "            #  Costo de Error de Validacion\n",
    "            C += V * TV * CE\n",
    "            #  Determina el error que conlleva no validar fuera de los umbrales.\n",
    "            if tarea == 'presencia':\n",
    "                #  Errores por Falsos Positivos fuera de los umbrales.\n",
    "                FP = np.sum((y_proba < umbral_inf) | (y_proba > umbral_sup) & (y_test == 0))\n",
    "                #  Errores por Falsos Negativos fuera de los umbrales.\n",
    "                FN = np.sum((y_proba < umbral_inf) | (y_proba > umbral_sup) & (y_test == 1))\n",
    "                #  Costos generados por errores de clasificacion.\n",
    "                C += FP * CFP + FN * CFN\n",
    "            else:\n",
    "                # Errores generados.\n",
    "                E = np.sum((y_proba < umbral_inf) | (y_proba > umbral_sup))\n",
    "                # Costo generado por errores de clasificacion.\n",
    "                C += E * CE\n",
    "            # En el caso de que el costo sea menor al minimo actual, se actualiza el minimo.\n",
    "            if C < CostoMin:\n",
    "                Vop = V\n",
    "                CostoMin = C\n",
    "                limInf = umbral_inf\n",
    "                limSup = umbral_sup\n",
    "\n",
    "            y_pred = (y_proba >= 0.5).astype(int)\n",
    "            # Crear colores basados en si son errores y su posición relativa a los umbrales\n",
    "            colores = ['#96482C' if ((prob < umbral_inf or prob > umbral_sup) and real != clase)\n",
    "                       else '#4E548D' if ((prob >= umbral_inf and prob <= umbral_sup))\n",
    "                       else '#87A26B' for prob, real, clase in zip(y_proba, y_test, y_pred)]\n",
    "\n",
    "            # Guardar imagen\n",
    "            plt.figure(figsize=(10, 6))\n",
    "            plt.scatter(y_proba, range(len(y_proba)), color=colores, alpha=0.7)\n",
    "            plt.axvspan(umbral_inf, umbral_sup, alpha=0.2, color='#272E72')\n",
    "            plt.title(f'Distribución de Probabilidades - Umbral: {round(umbral_inf, 2)} - {round(umbral_sup, 2)} - Costo: {round(C, 2)}')\n",
    "            plt.xlabel('Probabilidades')\n",
    "            plt.ylabel('Índices')\n",
    "            plt.tight_layout()\n",
    "            plt.savefig(f\"{img_dir}/img_{contador}.png\")\n",
    "            plt.close()\n",
    "            contador += 1\n"
   ]
  },
  {
   "cell_type": "code",
   "execution_count": 8,
   "metadata": {},
   "outputs": [],
   "source": [
    "optimizar_umbral(y_test, y_proba.ravel(),'presencia')"
   ]
  },
  {
   "cell_type": "code",
   "execution_count": 9,
   "metadata": {},
   "outputs": [
    {
     "name": "stderr",
     "output_type": "stream",
     "text": [
      "/var/folders/6c/17qbm4nd5318hd4bcrx68wjh0000gn/T/ipykernel_62452/2176571065.py:4: DeprecationWarning: Starting with ImageIO v3 the behavior of this function will switch to that of iio.v3.imread. To keep the current behavior (and make this warning disappear) use `import imageio.v2 as imageio` or call `imageio.v2.imread` directly.\n",
      "  imagenes = [imageio.imread(f\"img_temp/img_{i}.png\") for i in range(contador)]\n"
     ]
    }
   ],
   "source": [
    "import imageio\n",
    "\n",
    "contador = 2400\n",
    "imagenes = [imageio.imread(f\"img_temp/img_{i}.png\") for i in range(contador)]\n",
    "imageio.mimsave('animacion.gif', imagenes, fps=10)  # Ajusta el fps según lo desees"
   ]
  }
 ],
 "metadata": {
  "kernelspec": {
   "display_name": "ENV",
   "language": "python",
   "name": "python3"
  },
  "language_info": {
   "codemirror_mode": {
    "name": "ipython",
    "version": 3
   },
   "file_extension": ".py",
   "mimetype": "text/x-python",
   "name": "python",
   "nbconvert_exporter": "python",
   "pygments_lexer": "ipython3",
   "version": "3.9.6"
  }
 },
 "nbformat": 4,
 "nbformat_minor": 2
}
