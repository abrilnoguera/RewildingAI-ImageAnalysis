{
 "cells": [
  {
   "cell_type": "markdown",
   "metadata": {},
   "source": [
    "# Verificacion de Estimaciones para la Campaña 2023."
   ]
  },
  {
   "cell_type": "code",
   "execution_count": 106,
   "metadata": {},
   "outputs": [],
   "source": [
    "import pandas as pd\n",
    "import numpy as np\n",
    "import math"
   ]
  },
  {
   "cell_type": "code",
   "execution_count": 107,
   "metadata": {},
   "outputs": [
    {
     "name": "stderr",
     "output_type": "stream",
     "text": [
      "/var/folders/6c/17qbm4nd5318hd4bcrx68wjh0000gn/T/ipykernel_66877/1758670802.py:1: DtypeWarning: Columns (5) have mixed types. Specify dtype option on import or set low_memory=False.\n",
      "  df = pd.read_csv('Muestreo_CT_PatAzul2023.csv')\n"
     ]
    }
   ],
   "source": [
    "df = pd.read_csv('Muestreo_CT_PatAzul2023.csv')"
   ]
  },
  {
   "cell_type": "code",
   "execution_count": 108,
   "metadata": {},
   "outputs": [
    {
     "data": {
      "text/plain": [
       "Index(['Unnamed: 0', 'Ruta', 'Sitio', 'Año', 'Camara', 'Extra', 'Archivo',\n",
       "       'Fecha', 'Hora', 'Animal_proba', 'Animal', 'Guanaco_proba', 'Guanaco',\n",
       "       'Especie', 'Cantidad_proba', 'Cantidad', 'Validar', 'Validado'],\n",
       "      dtype='object')"
      ]
     },
     "execution_count": 108,
     "metadata": {},
     "output_type": "execute_result"
    }
   ],
   "source": [
    "df.columns"
   ]
  },
  {
   "cell_type": "code",
   "execution_count": 109,
   "metadata": {},
   "outputs": [
    {
     "data": {
      "text/plain": [
       "(118765, 18)"
      ]
     },
     "execution_count": 109,
     "metadata": {},
     "output_type": "execute_result"
    }
   ],
   "source": [
    "df.shape"
   ]
  },
  {
   "cell_type": "markdown",
   "metadata": {},
   "source": [
    "## Estimacion de Proporciones:"
   ]
  },
  {
   "cell_type": "code",
   "execution_count": 110,
   "metadata": {},
   "outputs": [
    {
     "name": "stdout",
     "output_type": "stream",
     "text": [
      "Proporcion de Imagenes con Animales:  29.2 %\n"
     ]
    }
   ],
   "source": [
    "# Proporcion de Imagenes con Animales\n",
    "pAnimal = sum(df['Animal']==1)/len(df)\n",
    "print('Proporcion de Imagenes con Animales: ', round(pAnimal * 100,2), '%')"
   ]
  },
  {
   "cell_type": "code",
   "execution_count": 111,
   "metadata": {},
   "outputs": [
    {
     "name": "stdout",
     "output_type": "stream",
     "text": [
      "Proporcion de Imagenes sin Animales:  70.8 %\n"
     ]
    }
   ],
   "source": [
    "# Proporcion de Imagenes sin Animales\n",
    "pNoAnimal = sum(df['Animal']==0)/len(df)\n",
    "print('Proporcion de Imagenes sin Animales: ', round(pNoAnimal * 100,2), '%')"
   ]
  },
  {
   "cell_type": "code",
   "execution_count": 112,
   "metadata": {},
   "outputs": [],
   "source": [
    "pGuanaco = (49.19/100)"
   ]
  },
  {
   "cell_type": "markdown",
   "metadata": {},
   "source": [
    "## Tiempo Total del Proceso:"
   ]
  },
  {
   "cell_type": "markdown",
   "metadata": {},
   "source": [
    "### Tiempo de Ejecucion Automatica:"
   ]
  },
  {
   "cell_type": "markdown",
   "metadata": {},
   "source": [
    "La eficiencia en los tiempos se vio perjudica por el uso de AWS para almacenar las imagenes. Al tener mayor latencia el proceso de consultar las imagenes demora más. Ademas, para consultar las imagenes se debieron tensorificar y extraer los metadatos antes de aplicar los modelos."
   ]
  },
  {
   "cell_type": "markdown",
   "metadata": {},
   "source": [
    "Se utilizaron multiprocesos concurrentes para hacer el proceso mas rapido. Y tecnicas de autoguardado para que en caso de que se rompa el proceso no se tenga que iniciar desde cero."
   ]
  },
  {
   "cell_type": "code",
   "execution_count": 113,
   "metadata": {},
   "outputs": [
    {
     "name": "stdout",
     "output_type": "stream",
     "text": [
      "Tiempo de Automatizacion:  0.24 segundos por imagen\n",
      "Tiempo de Automatizacion:  1 jornadas\n"
     ]
    }
   ],
   "source": [
    "tAutom =1/4.18\n",
    "TAutom = (len(df) * (tAutom))/(60*60)\n",
    "print('Tiempo de Automatizacion: ', round(tAutom,2), 'segundos por imagen')\n",
    "print('Tiempo de Automatizacion: ', math.ceil(TAutom/8), 'jornadas')"
   ]
  },
  {
   "cell_type": "markdown",
   "metadata": {},
   "source": [
    "Por lo que el tiempo total del proceso automatico es de **7.89 horas**  que son equivalentes a **1 jornada**."
   ]
  },
  {
   "cell_type": "markdown",
   "metadata": {},
   "source": [
    "### Tiempo de Validacion:"
   ]
  },
  {
   "cell_type": "markdown",
   "metadata": {},
   "source": [
    "El porcantaje de imagenes a validar sobre el total de la base es de:"
   ]
  },
  {
   "cell_type": "code",
   "execution_count": 114,
   "metadata": {},
   "outputs": [
    {
     "name": "stdout",
     "output_type": "stream",
     "text": [
      "Proporcion de Imagenes sin Animales a Validar:  13.93 %\n"
     ]
    }
   ],
   "source": [
    "pValNoAnimal = sum((df['Validar']==1) & (df['Animal']==0))/sum(df['Animal']==0)\n",
    "print('Proporcion de Imagenes sin Animales a Validar: ', round(pValNoAnimal * 100,2), '%')"
   ]
  },
  {
   "cell_type": "code",
   "execution_count": 115,
   "metadata": {},
   "outputs": [
    {
     "name": "stdout",
     "output_type": "stream",
     "text": [
      "Proporcion de Imagenes con Animales a Validar:  79.58 %\n"
     ]
    }
   ],
   "source": [
    "pValAnimal = sum((df['Validar']==1) & (df['Animal']==1))/sum(df['Animal']==1)\n",
    "print('Proporcion de Imagenes con Animales a Validar: ', round(pValAnimal * 100,2), '%')"
   ]
  },
  {
   "cell_type": "code",
   "execution_count": 116,
   "metadata": {},
   "outputs": [
    {
     "name": "stdout",
     "output_type": "stream",
     "text": [
      "Porcentaje de Imagenes a Validar:  33.1 %\n"
     ]
    }
   ],
   "source": [
    "# Porcentaje de Imagenes a Validar:\n",
    "pVal = sum(df['Validar']==1)/len(df)\n",
    "print('Porcentaje de Imagenes a Validar: ', round(pVal * 100,2), '%')"
   ]
  },
  {
   "cell_type": "code",
   "execution_count": 117,
   "metadata": {},
   "outputs": [
    {
     "name": "stdout",
     "output_type": "stream",
     "text": [
      "Tiempo de Validacion:  14.85 horas\n",
      "Tiempo de Validacion:  2 jornadas\n"
     ]
    }
   ],
   "source": [
    "# Tiempo de Validacion:\n",
    "tVal = pVal * 1.36\n",
    "TVal = (len(df) * tVal)/(60*60)\n",
    "print('Tiempo de Validacion: ', round(TVal,2), 'horas')\n",
    "print('Tiempo de Validacion: ', math.ceil(TVal/8), 'jornadas')"
   ]
  },
  {
   "cell_type": "markdown",
   "metadata": {},
   "source": [
    "Por lo que el tiempo total del proceso de validacion es de **14.85 horas**  que son equivalentes a **2 jornadas**."
   ]
  },
  {
   "cell_type": "markdown",
   "metadata": {},
   "source": [
    "### Tiempo Total"
   ]
  },
  {
   "cell_type": "markdown",
   "metadata": {},
   "source": [
    "El tiempo total del proceso sera de:"
   ]
  },
  {
   "cell_type": "code",
   "execution_count": 118,
   "metadata": {},
   "outputs": [
    {
     "name": "stdout",
     "output_type": "stream",
     "text": [
      "Tiempo del Proceso:  22.74 horas\n",
      "Tiempo del Proceso:  2.84 jornadas\n"
     ]
    }
   ],
   "source": [
    "tTotal = tAutom + tVal\n",
    "TTotal = TAutom + TVal\n",
    "print('Tiempo del Proceso: ', round(TTotal,2), 'horas')\n",
    "print('Tiempo del Proceso: ', round(TTotal/8,2), 'jornadas')"
   ]
  },
  {
   "cell_type": "markdown",
   "metadata": {},
   "source": [
    "El proceso completo requiere **2.84 jornadas laborales**  (23 horas). Cabe destacar que de estas solo **15 horas requieren atencion humana**"
   ]
  },
  {
   "cell_type": "markdown",
   "metadata": {},
   "source": [
    "### Cantidad de Imagenes por Hora:"
   ]
  },
  {
   "cell_type": "markdown",
   "metadata": {},
   "source": [
    "Para calcular la cantidad de imágenes que se procesaran por hora se tiene en cuenta tanto el tiempo que tarda en procesarlas los modelos predictivos cómo el tiempo que se tarda en validar aquellas que necesiten un refuerzo en su clasificación. "
   ]
  },
  {
   "cell_type": "code",
   "execution_count": 119,
   "metadata": {},
   "outputs": [
    {
     "name": "stdout",
     "output_type": "stream",
     "text": [
      "Tiempo de Automatizacion:  0.24 segundos\n",
      "Cantidad de Imagenes por Hora:  5222\n"
     ]
    }
   ],
   "source": [
    "print('Tiempo de Automatizacion: ', round(tAutom,2), 'segundos')\n",
    "\n",
    "cHora = 60*60/(tAutom + tVal)\n",
    "print('Cantidad de Imagenes por Hora: ', math.ceil(cHora))"
   ]
  },
  {
   "cell_type": "markdown",
   "metadata": {},
   "source": [
    "### Precision de Etiquetado:"
   ]
  },
  {
   "cell_type": "code",
   "execution_count": 120,
   "metadata": {},
   "outputs": [
    {
     "name": "stdout",
     "output_type": "stream",
     "text": [
      "Error de Imagenes sin Animales:  0.98 %\n"
     ]
    }
   ],
   "source": [
    "eNoAnimal = pNoAnimal * (95.94/100) * (1.45/100)\n",
    "print('Error de Imagenes sin Animales: ', round(eNoAnimal * 100,2), '%')"
   ]
  },
  {
   "cell_type": "code",
   "execution_count": 121,
   "metadata": {},
   "outputs": [
    {
     "name": "stdout",
     "output_type": "stream",
     "text": [
      "Error de Imagenes con Animales:  0.52 %\n"
     ]
    }
   ],
   "source": [
    "eAnimal = pAnimal * (49.19/100) * ((1.41/100) + (41.79/100) * (5.22/100))\n",
    "print('Error de Imagenes con Animales: ', round(eAnimal * 100,2), '%')"
   ]
  },
  {
   "cell_type": "code",
   "execution_count": 122,
   "metadata": {},
   "outputs": [
    {
     "name": "stdout",
     "output_type": "stream",
     "text": [
      "Error Automatico:  1.5 %\n"
     ]
    }
   ],
   "source": [
    "eAutomatico = eNoAnimal + eAnimal\n",
    "print('Error Automatico: ', round(eAutomatico * 100,2), '%')"
   ]
  },
  {
   "cell_type": "code",
   "execution_count": 123,
   "metadata": {},
   "outputs": [
    {
     "name": "stdout",
     "output_type": "stream",
     "text": [
      "Cantidad de Errores:  1783\n"
     ]
    }
   ],
   "source": [
    "cErroresAutom = len(df) * eAutomatico\n",
    "print('Cantidad de Errores: ', math.ceil(cErroresAutom))"
   ]
  },
  {
   "cell_type": "code",
   "execution_count": 124,
   "metadata": {},
   "outputs": [
    {
     "name": "stdout",
     "output_type": "stream",
     "text": [
      "Error de Validacion:  3.79 %\n"
     ]
    }
   ],
   "source": [
    "eValidacion = pAnimal * ((16.7/100) + (3.4/100) + (10/100))/2 * pValAnimal + pNoAnimal * ((0.6/10) /2) * pValNoAnimal\n",
    "print('Error de Validacion: ', round(eValidacion * 100,2), '%')"
   ]
  },
  {
   "cell_type": "code",
   "execution_count": 125,
   "metadata": {},
   "outputs": [
    {
     "name": "stdout",
     "output_type": "stream",
     "text": [
      "Cantidad de Errores:  1492\n"
     ]
    }
   ],
   "source": [
    "cErroresVal = len(df) * pVal * eValidacion \n",
    "print('Cantidad de Errores: ', math.ceil(cErroresVal))"
   ]
  },
  {
   "cell_type": "code",
   "execution_count": 126,
   "metadata": {},
   "outputs": [
    {
     "name": "stdout",
     "output_type": "stream",
     "text": [
      "Error Total:  5.29 %\n"
     ]
    }
   ],
   "source": [
    "eErrores = eAutomatico + eValidacion\n",
    "print('Error Total: ', round(eErrores * 100,2), '%')"
   ]
  },
  {
   "cell_type": "code",
   "execution_count": 127,
   "metadata": {},
   "outputs": [
    {
     "name": "stdout",
     "output_type": "stream",
     "text": [
      "Cantidad de Errores:  3274\n"
     ]
    }
   ],
   "source": [
    "cErrores = cErroresAutom + cErroresVal\n",
    "print('Cantidad de Errores: ', math.ceil(cErrores))"
   ]
  },
  {
   "cell_type": "markdown",
   "metadata": {},
   "source": [
    "### Costos del Proceso:"
   ]
  },
  {
   "cell_type": "markdown",
   "metadata": {},
   "source": [
    "- Costo Falso Negativo: $300\n",
    "- Costo Falso Positivo: $1000\n",
    "- Costo Error en Especies: $1300\n",
    "- Costo Error en Cantidad: $650"
   ]
  },
  {
   "cell_type": "code",
   "execution_count": 128,
   "metadata": {},
   "outputs": [
    {
     "name": "stdout",
     "output_type": "stream",
     "text": [
      "Costo de Error de Imagenes sin Animales: $ 2.95\n"
     ]
    }
   ],
   "source": [
    "coErrorNoAnimal = eNoAnimal * 300\n",
    "print('Costo de Error de Imagenes sin Animales: $', round(coErrorNoAnimal,2))"
   ]
  },
  {
   "cell_type": "code",
   "execution_count": 129,
   "metadata": {},
   "outputs": [
    {
     "name": "stdout",
     "output_type": "stream",
     "text": [
      "Costo de Error de Imagenes con Animales: $ 4.67\n"
     ]
    }
   ],
   "source": [
    "coErrorAnimal = pAnimal * pGuanaco * ((1.41/100) * 1300 + (41.79/100) * (5.22/100) * 650)\n",
    "print('Costo de Error de Imagenes con Animales: $', round(coErrorAnimal,2))"
   ]
  },
  {
   "cell_type": "code",
   "execution_count": 130,
   "metadata": {},
   "outputs": [
    {
     "name": "stdout",
     "output_type": "stream",
     "text": [
      "Costo de Error Automatico: $ 7.62\n"
     ]
    }
   ],
   "source": [
    "coErrorAutomatico = coErrorNoAnimal + coErrorAnimal\n",
    "print('Costo de Error Automatico: $', round(coErrorAutomatico,2))"
   ]
  },
  {
   "cell_type": "code",
   "execution_count": 131,
   "metadata": {},
   "outputs": [
    {
     "name": "stdout",
     "output_type": "stream",
     "text": [
      "Costo de Error de Validacion: $ 2.44\n"
     ]
    }
   ],
   "source": [
    "coErrorVal = pAnimal * pValAnimal * ((1.41/100) * 300 + (41.79/100) * (5.22/100) * 650)/2 + pNoAnimal * pValNoAnimal * ((0.6/100)/2) * 1000\n",
    "print('Costo de Error de Validacion: $', round(coErrorVal,2))"
   ]
  },
  {
   "cell_type": "code",
   "execution_count": 132,
   "metadata": {},
   "outputs": [
    {
     "name": "stdout",
     "output_type": "stream",
     "text": [
      "Costo Operacional de Validacion: $ 0.06\n"
     ]
    }
   ],
   "source": [
    "coOperacionalVal = pVal * tVal * 10730/(8*60*60)\n",
    "print('Costo Operacional de Validacion: $', round(coOperacionalVal,2))"
   ]
  },
  {
   "cell_type": "code",
   "execution_count": 133,
   "metadata": {},
   "outputs": [
    {
     "name": "stdout",
     "output_type": "stream",
     "text": [
      "Costo de Servicio: $ 1100000\n"
     ]
    }
   ],
   "source": [
    "coServicio = 1100000\n",
    "print('Costo de Servicio: $', round(coServicio,2))"
   ]
  },
  {
   "cell_type": "code",
   "execution_count": 134,
   "metadata": {},
   "outputs": [
    {
     "name": "stdout",
     "output_type": "stream",
     "text": [
      "Costo Total: $ 2301359.31\n"
     ]
    }
   ],
   "source": [
    "coTotal = len(df) * (coErrorAutomatico + coErrorVal + coOperacionalVal) + coServicio\n",
    "print('Costo Total: $', round(coTotal,2))"
   ]
  },
  {
   "cell_type": "code",
   "execution_count": 135,
   "metadata": {},
   "outputs": [
    {
     "name": "stdout",
     "output_type": "stream",
     "text": [
      "Costo por Imagen: $ 19.38\n"
     ]
    }
   ],
   "source": [
    "coImagen = coTotal/len(df)\n",
    "print('Costo por Imagen: $', round(coImagen,2))"
   ]
  },
  {
   "cell_type": "markdown",
   "metadata": {},
   "source": [
    "## KPIs"
   ]
  },
  {
   "cell_type": "markdown",
   "metadata": {},
   "source": [
    "### Tiempo Total del Proceso"
   ]
  },
  {
   "cell_type": "code",
   "execution_count": 136,
   "metadata": {},
   "outputs": [
    {
     "name": "stdout",
     "output_type": "stream",
     "text": [
      "Tiempo Total: \n",
      "- Clasificacion Manual: 152.75 horas\n",
      "- Solucion Semi-Automatica: 22.74 horas\n",
      "Variacion Porcentual:  -85.11 %\n"
     ]
    }
   ],
   "source": [
    "print('Tiempo Total: ')\n",
    "print('- Clasificacion Manual: 152.75 horas')\n",
    "print('- Solucion Semi-Automatica:', round(TTotal,2), 'horas')\n",
    "print('Variacion Porcentual: ', round((TTotal - 152.75)/152.75 * 100,2), '%')"
   ]
  },
  {
   "cell_type": "code",
   "execution_count": 137,
   "metadata": {},
   "outputs": [
    {
     "name": "stdout",
     "output_type": "stream",
     "text": [
      "Jornadas Laborales:\n",
      "- Clasificacion Manual: 19.1 jornadas\n",
      "- Solucion Semi-Automatica:\n",
      "   - Jornadas Ocupadas:  1.9 jornadas\n",
      "    Variacion Porcentual:  -90.28 %\n",
      "    - Jornadas Totales:  2.8 jornadas\n",
      "    Variacion Porcentual:  -85.11 %\n"
     ]
    }
   ],
   "source": [
    "print('Jornadas Laborales:')\n",
    "print('- Clasificacion Manual: 19.1 jornadas')\n",
    "print('- Solucion Semi-Automatica:')\n",
    "print('   - Jornadas Ocupadas: ', round(TVal/8,1), 'jornadas')\n",
    "print('    Variacion Porcentual: ', round((TVal/8 - 19.1)/19.1 * 100,2), '%')\n",
    "print('    - Jornadas Totales: ', round(TTotal/8,1), 'jornadas')\n",
    "print('    Variacion Porcentual: ', round((TTotal/8 - 19.1)/19.1 * 100,2), '%')"
   ]
  },
  {
   "cell_type": "markdown",
   "metadata": {},
   "source": [
    "### Cantidad de Imagenes Analizadas por Hora:"
   ]
  },
  {
   "cell_type": "code",
   "execution_count": 138,
   "metadata": {},
   "outputs": [
    {
     "name": "stdout",
     "output_type": "stream",
     "text": [
      "Cantidad de Imagenes por Hora: \n",
      "- Clasificacion Manual: 777 imagenes/hr\n",
      "- Solucion Semi-Automatica:  5222 imagenes/hr\n",
      "Variacion Porcentual:  572.03 %\n"
     ]
    }
   ],
   "source": [
    "print('Cantidad de Imagenes por Hora: ')\n",
    "print('- Clasificacion Manual: 777 imagenes/hr')\n",
    "print('- Solucion Semi-Automatica: ', math.ceil(cHora), 'imagenes/hr')\n",
    "print('Variacion Porcentual: ', round((cHora - 777)/777 * 100,2), '%')"
   ]
  },
  {
   "cell_type": "markdown",
   "metadata": {},
   "source": [
    "### Precision de Etiquetado:"
   ]
  },
  {
   "cell_type": "code",
   "execution_count": 139,
   "metadata": {},
   "outputs": [
    {
     "name": "stdout",
     "output_type": "stream",
     "text": [
      "Tasa de Error: \n",
      "- Clasificacion Manual: 10%\n",
      "- Solucion Semi-Automatica:  5.29 %\n",
      "Variacion Porcentual:  -47.06 %\n"
     ]
    }
   ],
   "source": [
    "print('Tasa de Error: ')\n",
    "print('- Clasificacion Manual: 10%')\n",
    "print('- Solucion Semi-Automatica: ', round(eErrores * 100,2), '%')\n",
    "print('Variacion Porcentual: ', round((eErrores * 100 - 10)/10 * 100,2), '%')"
   ]
  },
  {
   "cell_type": "code",
   "execution_count": 140,
   "metadata": {},
   "outputs": [
    {
     "name": "stdout",
     "output_type": "stream",
     "text": [
      "Cantidad de Errores: \n",
      "- Clasificacion Manual: 11877 errores\n",
      "- Solucion Semi-Automatica:  3274 errores\n",
      "Variacion Porcentual:  -72.44 %\n"
     ]
    }
   ],
   "source": [
    "print('Cantidad de Errores: ')\n",
    "print('- Clasificacion Manual: 11877 errores')\n",
    "print('- Solucion Semi-Automatica: ', math.ceil(cErrores), 'errores')\n",
    "print('Variacion Porcentual: ', round((cErrores - 11877)/11877 * 100,2), '%')"
   ]
  },
  {
   "cell_type": "markdown",
   "metadata": {},
   "source": [
    "### Costo del Proceso:"
   ]
  },
  {
   "cell_type": "code",
   "execution_count": 141,
   "metadata": {},
   "outputs": [
    {
     "name": "stdout",
     "output_type": "stream",
     "text": [
      "Costo por Imagen:\n",
      "- Clasificacion Manual: $ 56.5\n",
      "- Solucion Semi-Automatica: $ 19.38\n",
      "Variacion Porcentual:  -65.7 %\n"
     ]
    }
   ],
   "source": [
    "print('Costo por Imagen:')\n",
    "print('- Clasificacion Manual: $ 56.5')\n",
    "print('- Solucion Semi-Automatica: $', round(coImagen,2))\n",
    "print('Variacion Porcentual: ', round((coImagen - 56.5)/56.5* 100,2), '%')"
   ]
  },
  {
   "cell_type": "code",
   "execution_count": 142,
   "metadata": {},
   "outputs": [
    {
     "name": "stdout",
     "output_type": "stream",
     "text": [
      "Costo del Proceso:\n",
      "- Clasificacion Manual: $ 6722325.4\n",
      "- Solucion Semi-Automatica: $ 2301359.31\n",
      "Variacion Porcentual:  -65.77 %\n"
     ]
    }
   ],
   "source": [
    "print('Costo del Proceso:')\n",
    "print('- Clasificacion Manual: $ 6722325.4')\n",
    "print('- Solucion Semi-Automatica: $', round(coTotal,2))\n",
    "print('Variacion Porcentual: ', round((coTotal - 6722325.4)/6722325.4 * 100,2), '%')"
   ]
  },
  {
   "cell_type": "markdown",
   "metadata": {},
   "source": [
    "### Ratio de Imagenes Utiles:"
   ]
  },
  {
   "cell_type": "code",
   "execution_count": 143,
   "metadata": {},
   "outputs": [
    {
     "name": "stdout",
     "output_type": "stream",
     "text": [
      "Ratio de Imagenes Utiles: \n",
      "- Clasificacion Manual: 0.79%\n",
      "- Solucion Semi-Automatica: 100%\n",
      "Variacion Porcentual:  12558.23 %\n"
     ]
    }
   ],
   "source": [
    "print('Ratio de Imagenes Utiles: ')\n",
    "print('- Clasificacion Manual: 0.79%')\n",
    "print('- Solucion Semi-Automatica: 100%')\n",
    "print('Variacion Porcentual: ', round((100 - 0.79)/0.79 * 100,2), '%')"
   ]
  },
  {
   "cell_type": "markdown",
   "metadata": {},
   "source": [
    "# Resultados:"
   ]
  },
  {
   "cell_type": "code",
   "execution_count": 144,
   "metadata": {},
   "outputs": [],
   "source": [
    "df = pd.read_csv('resultados.csv')"
   ]
  },
  {
   "cell_type": "code",
   "execution_count": 145,
   "metadata": {},
   "outputs": [],
   "source": [
    "df[\"Solucion Semi-Automatica\"]=[round(tTotal,2), round(TVal/8,1), round(TTotal/8,1), math.ceil(cHora), round(eErrores * 100,2), math.ceil(cErrores), round(coImagen,2), 100 ]"
   ]
  },
  {
   "cell_type": "code",
   "execution_count": 146,
   "metadata": {},
   "outputs": [
    {
     "data": {
      "text/html": [
       "<div>\n",
       "<style scoped>\n",
       "    .dataframe tbody tr th:only-of-type {\n",
       "        vertical-align: middle;\n",
       "    }\n",
       "\n",
       "    .dataframe tbody tr th {\n",
       "        vertical-align: top;\n",
       "    }\n",
       "\n",
       "    .dataframe thead th {\n",
       "        text-align: right;\n",
       "    }\n",
       "</style>\n",
       "<table border=\"1\" class=\"dataframe\">\n",
       "  <thead>\n",
       "    <tr style=\"text-align: right;\">\n",
       "      <th></th>\n",
       "      <th>KPI</th>\n",
       "      <th>Clasificacion Manual</th>\n",
       "      <th>Estimacion Automatica</th>\n",
       "      <th>Estimacion Semi-Automatica</th>\n",
       "      <th>Solucion Semi-Automatica</th>\n",
       "      <th>Variacion Porcentual (%)</th>\n",
       "    </tr>\n",
       "  </thead>\n",
       "  <tbody>\n",
       "    <tr>\n",
       "      <th>0</th>\n",
       "      <td>Segundos por Imagen</td>\n",
       "      <td>4.63</td>\n",
       "      <td>0.56</td>\n",
       "      <td>1.84</td>\n",
       "      <td>0.69</td>\n",
       "      <td>-85.10</td>\n",
       "    </tr>\n",
       "    <tr>\n",
       "      <th>1</th>\n",
       "      <td>Jornadas Ocupadas</td>\n",
       "      <td>19.10</td>\n",
       "      <td>0.00</td>\n",
       "      <td>1.60</td>\n",
       "      <td>1.90</td>\n",
       "      <td>-90.05</td>\n",
       "    </tr>\n",
       "    <tr>\n",
       "      <th>2</th>\n",
       "      <td>Jornadas Totales</td>\n",
       "      <td>19.10</td>\n",
       "      <td>2.30</td>\n",
       "      <td>7.60</td>\n",
       "      <td>2.80</td>\n",
       "      <td>-85.34</td>\n",
       "    </tr>\n",
       "    <tr>\n",
       "      <th>3</th>\n",
       "      <td>Imagenes por Hora</td>\n",
       "      <td>777.00</td>\n",
       "      <td>6480.00</td>\n",
       "      <td>1962.00</td>\n",
       "      <td>5222.00</td>\n",
       "      <td>572.07</td>\n",
       "    </tr>\n",
       "    <tr>\n",
       "      <th>4</th>\n",
       "      <td>Tasa de Error</td>\n",
       "      <td>10.00</td>\n",
       "      <td>16.30</td>\n",
       "      <td>6.13</td>\n",
       "      <td>5.29</td>\n",
       "      <td>-47.10</td>\n",
       "    </tr>\n",
       "    <tr>\n",
       "      <th>5</th>\n",
       "      <td>Cantidad de Errores</td>\n",
       "      <td>11877.00</td>\n",
       "      <td>19357.00</td>\n",
       "      <td>7281.00</td>\n",
       "      <td>3274.00</td>\n",
       "      <td>-72.43</td>\n",
       "    </tr>\n",
       "    <tr>\n",
       "      <th>6</th>\n",
       "      <td>Costo por Imagen</td>\n",
       "      <td>56.50</td>\n",
       "      <td>19.45</td>\n",
       "      <td>22.69</td>\n",
       "      <td>19.38</td>\n",
       "      <td>-65.70</td>\n",
       "    </tr>\n",
       "    <tr>\n",
       "      <th>7</th>\n",
       "      <td>Ratio de Imagenes Utiles</td>\n",
       "      <td>0.79</td>\n",
       "      <td>100.00</td>\n",
       "      <td>100.00</td>\n",
       "      <td>100.00</td>\n",
       "      <td>12558.23</td>\n",
       "    </tr>\n",
       "  </tbody>\n",
       "</table>\n",
       "</div>"
      ],
      "text/plain": [
       "                        KPI  Clasificacion Manual  Estimacion Automatica  \\\n",
       "0       Segundos por Imagen                  4.63                   0.56   \n",
       "1         Jornadas Ocupadas                 19.10                   0.00   \n",
       "2          Jornadas Totales                 19.10                   2.30   \n",
       "3         Imagenes por Hora                777.00                6480.00   \n",
       "4             Tasa de Error                 10.00                  16.30   \n",
       "5       Cantidad de Errores              11877.00               19357.00   \n",
       "6          Costo por Imagen                 56.50                  19.45   \n",
       "7  Ratio de Imagenes Utiles                  0.79                 100.00   \n",
       "\n",
       "   Estimacion Semi-Automatica  Solucion Semi-Automatica  \\\n",
       "0                        1.84                      0.69   \n",
       "1                        1.60                      1.90   \n",
       "2                        7.60                      2.80   \n",
       "3                     1962.00                   5222.00   \n",
       "4                        6.13                      5.29   \n",
       "5                     7281.00                   3274.00   \n",
       "6                       22.69                     19.38   \n",
       "7                      100.00                    100.00   \n",
       "\n",
       "   Variacion Porcentual (%)  \n",
       "0                    -85.10  \n",
       "1                    -90.05  \n",
       "2                    -85.34  \n",
       "3                    572.07  \n",
       "4                    -47.10  \n",
       "5                    -72.43  \n",
       "6                    -65.70  \n",
       "7                  12558.23  "
      ]
     },
     "execution_count": 146,
     "metadata": {},
     "output_type": "execute_result"
    }
   ],
   "source": [
    "df[\"Variacion Porcentual (%)\"] = round((df[\"Solucion Semi-Automatica\"] - df[\"Clasificacion Manual\"]) / df[\"Clasificacion Manual\"] * 100, 2)\n",
    "df"
   ]
  }
 ],
 "metadata": {
  "kernelspec": {
   "display_name": "ENV",
   "language": "python",
   "name": "python3"
  },
  "language_info": {
   "codemirror_mode": {
    "name": "ipython",
    "version": 3
   },
   "file_extension": ".py",
   "mimetype": "text/x-python",
   "name": "python",
   "nbconvert_exporter": "python",
   "pygments_lexer": "ipython3",
   "version": "3.9.6"
  }
 },
 "nbformat": 4,
 "nbformat_minor": 2
}
