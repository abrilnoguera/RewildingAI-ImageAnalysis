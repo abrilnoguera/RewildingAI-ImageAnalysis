{
 "cells": [
  {
   "cell_type": "markdown",
   "metadata": {},
   "source": [
    "# Verificacion de Estimaciones para la Campaña 2023."
   ]
  },
  {
   "cell_type": "code",
   "execution_count": 361,
   "metadata": {},
   "outputs": [],
   "source": [
    "import pandas as pd\n",
    "import numpy as np\n",
    "import math"
   ]
  },
  {
   "cell_type": "markdown",
   "metadata": {},
   "source": [
    "# Estimacion de Resultados:"
   ]
  },
  {
   "cell_type": "markdown",
   "metadata": {},
   "source": [
    "## Estimacion de Proporciones:"
   ]
  },
  {
   "cell_type": "code",
   "execution_count": 362,
   "metadata": {},
   "outputs": [],
   "source": [
    "tBase = 118769"
   ]
  },
  {
   "cell_type": "code",
   "execution_count": 363,
   "metadata": {},
   "outputs": [
    {
     "name": "stdout",
     "output_type": "stream",
     "text": [
      "Proporcion de Imagenes con Animales:  31.88 %\n"
     ]
    }
   ],
   "source": [
    "# Proporcion de Imagenes con Animales\n",
    "pAnimal = 0.3188\n",
    "print('Proporcion de Imagenes con Animales: ', round(pAnimal * 100,2), '%')"
   ]
  },
  {
   "cell_type": "code",
   "execution_count": 364,
   "metadata": {},
   "outputs": [
    {
     "name": "stdout",
     "output_type": "stream",
     "text": [
      "Proporcion de Imagenes sin Animales:  68.12 %\n"
     ]
    }
   ],
   "source": [
    "# Proporcion de Imagenes sin Animales\n",
    "pNoAnimal = 1 - pAnimal\n",
    "print('Proporcion de Imagenes sin Animales: ', round(pNoAnimal * 100,2), '%')"
   ]
  },
  {
   "cell_type": "markdown",
   "metadata": {},
   "source": [
    "### Proporciones a Validar"
   ]
  },
  {
   "cell_type": "code",
   "execution_count": 365,
   "metadata": {},
   "outputs": [
    {
     "name": "stdout",
     "output_type": "stream",
     "text": [
      "Proporcion de Imagenes sin Animales a Validar:  4.06 %\n"
     ]
    }
   ],
   "source": [
    "pValNoAnimal = 0.0406\n",
    "print('Proporcion de Imagenes sin Animales a Validar: ', round(pValNoAnimal * 100,2), '%')"
   ]
  },
  {
   "cell_type": "code",
   "execution_count": 366,
   "metadata": {},
   "outputs": [
    {
     "name": "stdout",
     "output_type": "stream",
     "text": [
      "Proporcion de Imagenes con Animales a Validar:  80.94 %\n"
     ]
    }
   ],
   "source": [
    "pValAnimal = 0.8094\n",
    "print('Proporcion de Imagenes con Animales a Validar: ', round(pValAnimal * 100,2), '%')"
   ]
  },
  {
   "cell_type": "code",
   "execution_count": 367,
   "metadata": {},
   "outputs": [
    {
     "name": "stdout",
     "output_type": "stream",
     "text": [
      "Porcentaje de Imagenes a Validar:  28.57 %\n"
     ]
    }
   ],
   "source": [
    "# Porcentaje de Imagenes a Validar:\n",
    "pVal = 0.2857\n",
    "print('Porcentaje de Imagenes a Validar: ', round(pVal * 100,2), '%')"
   ]
  },
  {
   "cell_type": "code",
   "execution_count": 370,
   "metadata": {},
   "outputs": [
    {
     "name": "stdout",
     "output_type": "stream",
     "text": [
      "Cantidad de Imagenes a Validar:  33932\n"
     ]
    }
   ],
   "source": [
    "cVal = tBase * pNoAnimal * pValNoAnimal + tBase * pAnimal * pValAnimal\n",
    "print('Cantidad de Imagenes a Validar: ', math.ceil(cVal))"
   ]
  },
  {
   "cell_type": "markdown",
   "metadata": {},
   "source": [
    "## Tiempo Total del Proceso:"
   ]
  },
  {
   "cell_type": "code",
   "execution_count": 281,
   "metadata": {},
   "outputs": [
    {
     "name": "stdout",
     "output_type": "stream",
     "text": [
      "Tiempo de Automatizacion:  0.24 segundos por imagen\n"
     ]
    }
   ],
   "source": [
    "# Ratio de 4.18 imagenes por segundo\n",
    "tAutom = 1/4.18\n",
    "print('Tiempo de Automatizacion: ', round(tAutom,2), 'segundos por imagen')"
   ]
  },
  {
   "cell_type": "code",
   "execution_count": 282,
   "metadata": {},
   "outputs": [
    {
     "name": "stdout",
     "output_type": "stream",
     "text": [
      "Tiempo de Automatizacion:  7.89 horas\n",
      "Tiempo de Automatizacion:  1 jornadas\n"
     ]
    }
   ],
   "source": [
    "TAutom = (tBase * (tAutom))/(60*60)\n",
    "print('Tiempo de Automatizacion: ', round(TAutom,2), 'horas')\n",
    "print('Tiempo de Automatizacion: ', math.ceil(TAutom/8), 'jornadas')"
   ]
  },
  {
   "cell_type": "markdown",
   "metadata": {},
   "source": [
    "Por lo que el tiempo total del proceso automatico es de **7.89 horas**  que son equivalentes a **1 jornada**."
   ]
  },
  {
   "cell_type": "markdown",
   "metadata": {},
   "source": [
    "### Tiempo de Validacion:"
   ]
  },
  {
   "cell_type": "markdown",
   "metadata": {},
   "source": [
    "El porcantaje de imagenes a validar sobre el total de la base es de:"
   ]
  },
  {
   "cell_type": "code",
   "execution_count": 283,
   "metadata": {},
   "outputs": [
    {
     "name": "stdout",
     "output_type": "stream",
     "text": [
      "Tiempo de Validacion:  12.82 horas\n",
      "Tiempo de Validacion:  2 jornadas\n"
     ]
    }
   ],
   "source": [
    "# Tiempo de Validacion:\n",
    "tVal = pVal * 1.36\n",
    "TVal = (tBase * tVal)/(60*60)\n",
    "print('Tiempo de Validacion: ', round(TVal,2), 'horas')\n",
    "print('Tiempo de Validacion: ', math.ceil(TVal/8), 'jornadas')"
   ]
  },
  {
   "cell_type": "markdown",
   "metadata": {},
   "source": [
    "Por lo que el tiempo total del proceso de validacion es de **14.85 horas**  que son equivalentes a **2 jornadas**."
   ]
  },
  {
   "cell_type": "markdown",
   "metadata": {},
   "source": [
    "### Tiempo Total"
   ]
  },
  {
   "cell_type": "markdown",
   "metadata": {},
   "source": [
    "El tiempo total del proceso sera de:"
   ]
  },
  {
   "cell_type": "code",
   "execution_count": 284,
   "metadata": {},
   "outputs": [
    {
     "name": "stdout",
     "output_type": "stream",
     "text": [
      "Tiempo del Proceso:  20.71 horas\n",
      "Tiempo del Proceso:  2.59 jornadas\n"
     ]
    }
   ],
   "source": [
    "tTotal = tAutom + tVal\n",
    "TTotal = TAutom + TVal\n",
    "print('Tiempo del Proceso: ', round(TTotal,2), 'horas')\n",
    "print('Tiempo del Proceso: ', round(TTotal/8,2), 'jornadas')"
   ]
  },
  {
   "cell_type": "markdown",
   "metadata": {},
   "source": [
    "El proceso completo requiere **2.84 jornadas laborales**  (23 horas). Cabe destacar que de estas solo **15 horas requieren atencion humana**"
   ]
  },
  {
   "cell_type": "markdown",
   "metadata": {},
   "source": [
    "### Cantidad de Imagenes por Hora:"
   ]
  },
  {
   "cell_type": "markdown",
   "metadata": {},
   "source": [
    "Para calcular la cantidad de imágenes que se procesaran por hora se tiene en cuenta tanto el tiempo que tarda en procesarlas los modelos predictivos cómo el tiempo que se tarda en validar aquellas que necesiten un refuerzo en su clasificación. "
   ]
  },
  {
   "cell_type": "code",
   "execution_count": 285,
   "metadata": {},
   "outputs": [
    {
     "name": "stdout",
     "output_type": "stream",
     "text": [
      "Tiempo de Automatizacion:  0.24 segundos\n",
      "Cantidad de Imagenes por Hora:  5735\n"
     ]
    }
   ],
   "source": [
    "print('Tiempo de Automatizacion: ', round(tAutom,2), 'segundos')\n",
    "\n",
    "cHora = 60*60/(tAutom + tVal)\n",
    "print('Cantidad de Imagenes por Hora: ', math.ceil(cHora))"
   ]
  },
  {
   "cell_type": "markdown",
   "metadata": {},
   "source": [
    "### Precision de Etiquetado:"
   ]
  },
  {
   "cell_type": "markdown",
   "metadata": {},
   "source": [
    "Precisión:\n",
    "- Presencias: 96.55%\n",
    "- Especies: 91.43%\n",
    "- Cantidades: 87.04%"
   ]
  },
  {
   "cell_type": "code",
   "execution_count": 286,
   "metadata": {},
   "outputs": [],
   "source": [
    "aPresencias = 96.55\n",
    "aEspecies = 91.43\n",
    "aCantidades = 87.04"
   ]
  },
  {
   "cell_type": "markdown",
   "metadata": {},
   "source": [
    "Seguridad de Prediccion:\n",
    "- Presencias:\n",
    "  - Animal: 92.74%\n",
    "  - No Animal: 95.94%\n",
    "- Especies: 55.34%\n",
    "- Cantidades: 41.79%"
   ]
  },
  {
   "cell_type": "code",
   "execution_count": 287,
   "metadata": {},
   "outputs": [],
   "source": [
    "sAnimal = 92.74/100\n",
    "sNoAnimal = 95.94/100\n",
    "sEspecies = 55.34/100\n",
    "sCantidades = 41.79/100"
   ]
  },
  {
   "cell_type": "markdown",
   "metadata": {},
   "source": [
    "Errores que No se Validan:\n",
    "- Presencias:\n",
    "  - Animal: 2.38%\n",
    "  - No Animal: 1.45%\n",
    "- Especies: 1.41%\n",
    "- Cantidades: 5.22%"
   ]
  },
  {
   "cell_type": "code",
   "execution_count": 288,
   "metadata": {},
   "outputs": [],
   "source": [
    "erAnimal = 2.38/100\n",
    "erNoAnimal = 1.45/100\n",
    "erEspecies = 1.41/100\n",
    "erCantidades = 5.22/100"
   ]
  },
  {
   "cell_type": "code",
   "execution_count": 289,
   "metadata": {},
   "outputs": [
    {
     "name": "stdout",
     "output_type": "stream",
     "text": [
      "Error de Imagenes sin Animales:  0.95 %\n"
     ]
    }
   ],
   "source": [
    "eNoAnimal = pNoAnimal * sNoAnimal * erNoAnimal\n",
    "print('Error de Imagenes sin Animales: ', round(eNoAnimal * 100,2), '%')"
   ]
  },
  {
   "cell_type": "code",
   "execution_count": 290,
   "metadata": {},
   "outputs": [
    {
     "name": "stdout",
     "output_type": "stream",
     "text": [
      "Error de Imagenes con Animales:  0.63 %\n"
     ]
    }
   ],
   "source": [
    "eAnimal = pAnimal * sEspecies * (erEspecies + sCantidades * erCantidades)\n",
    "print('Error de Imagenes con Animales: ', round(eAnimal * 100,2), '%')"
   ]
  },
  {
   "cell_type": "code",
   "execution_count": 291,
   "metadata": {},
   "outputs": [
    {
     "name": "stdout",
     "output_type": "stream",
     "text": [
      "Error Automatico:  1.58 %\n"
     ]
    }
   ],
   "source": [
    "eAutomatico = eNoAnimal + eAnimal\n",
    "print('Error Automatico: ', round(eAutomatico * 100,2), '%')"
   ]
  },
  {
   "cell_type": "code",
   "execution_count": 292,
   "metadata": {},
   "outputs": [
    {
     "name": "stdout",
     "output_type": "stream",
     "text": [
      "Cantidad de Errores:  1879\n"
     ]
    }
   ],
   "source": [
    "cErroresAutom = tBase * eAutomatico\n",
    "print('Cantidad de Errores: ', math.ceil(cErroresAutom))"
   ]
  },
  {
   "cell_type": "markdown",
   "metadata": {},
   "source": [
    "Tasa de Error en Validacion: Se asume que las tasas de error en el proceso de validación son 50% menores que en la situación actual. \n",
    "- Presencias:\n",
    "  - FP: 0.3%\n",
    "  - FN: 8.35%\n",
    "- Especies: 1.7%\n",
    "- Cantidades: 5%"
   ]
  },
  {
   "cell_type": "code",
   "execution_count": 293,
   "metadata": {},
   "outputs": [],
   "source": [
    "eFP = 0.3/100\n",
    "eFN = 8.35/100\n",
    "eGuanacos = 1.7/100\n",
    "eCantidades = 5/100"
   ]
  },
  {
   "cell_type": "code",
   "execution_count": 294,
   "metadata": {},
   "outputs": [
    {
     "name": "stdout",
     "output_type": "stream",
     "text": [
      "Error de Validacion:  4.02 %\n"
     ]
    }
   ],
   "source": [
    "eValidacion = pAnimal * (eFN + eGuanacos + eCantidades) * pValAnimal + pNoAnimal * eCantidades * pValNoAnimal\n",
    "print('Error de Validacion: ', round(eValidacion * 100,2), '%')"
   ]
  },
  {
   "cell_type": "code",
   "execution_count": 295,
   "metadata": {},
   "outputs": [
    {
     "name": "stdout",
     "output_type": "stream",
     "text": [
      "Cantidad de Errores:  1365\n"
     ]
    }
   ],
   "source": [
    "cErroresVal = tBase * pVal * eValidacion\n",
    "print('Cantidad de Errores: ', math.ceil(cErroresVal))"
   ]
  },
  {
   "cell_type": "code",
   "execution_count": 296,
   "metadata": {},
   "outputs": [
    {
     "name": "stdout",
     "output_type": "stream",
     "text": [
      "Error Total:  5.6 %\n"
     ]
    }
   ],
   "source": [
    "eErrores = eAutomatico + eValidacion\n",
    "print('Error Total: ', round(eErrores * 100,2), '%')"
   ]
  },
  {
   "cell_type": "code",
   "execution_count": 297,
   "metadata": {},
   "outputs": [
    {
     "name": "stdout",
     "output_type": "stream",
     "text": [
      "Cantidad de Errores:  3243\n"
     ]
    }
   ],
   "source": [
    "cErrores = cErroresAutom + cErroresVal\n",
    "print('Cantidad de Errores: ', math.ceil(cErrores))"
   ]
  },
  {
   "cell_type": "markdown",
   "metadata": {},
   "source": [
    "### Costos del Proceso:"
   ]
  },
  {
   "cell_type": "markdown",
   "metadata": {},
   "source": [
    "- Costo Falso Negativo: $300\n",
    "- Costo Falso Positivo: $1000\n",
    "- Costo Error en Especies: $1300\n",
    "- Costo Error en Cantidad: $650"
   ]
  },
  {
   "cell_type": "code",
   "execution_count": 298,
   "metadata": {},
   "outputs": [
    {
     "name": "stdout",
     "output_type": "stream",
     "text": [
      "Costo de Error de Imagenes sin Animales: $ 2.84\n"
     ]
    }
   ],
   "source": [
    "coErrorNoAnimal = eNoAnimal * 300\n",
    "print('Costo de Error de Imagenes sin Animales: $', round(coErrorNoAnimal,2))"
   ]
  },
  {
   "cell_type": "code",
   "execution_count": 299,
   "metadata": {},
   "outputs": [
    {
     "name": "stdout",
     "output_type": "stream",
     "text": [
      "Costo de Error de Imagenes con Animales: $ 5.74\n"
     ]
    }
   ],
   "source": [
    "coErrorAnimal = pAnimal * sEspecies * (erEspecies * 1300 + sCantidades * erCantidades * 650)\n",
    "print('Costo de Error de Imagenes con Animales: $', round(coErrorAnimal,2))"
   ]
  },
  {
   "cell_type": "code",
   "execution_count": 300,
   "metadata": {},
   "outputs": [
    {
     "name": "stdout",
     "output_type": "stream",
     "text": [
      "Costo de Error Automatico: $ 8.58\n"
     ]
    }
   ],
   "source": [
    "coErrorAutomatico = coErrorNoAnimal + coErrorAnimal\n",
    "print('Costo de Error Automatico: $', round(coErrorAutomatico,2))"
   ]
  },
  {
   "cell_type": "code",
   "execution_count": 301,
   "metadata": {},
   "outputs": [
    {
     "name": "stdout",
     "output_type": "stream",
     "text": [
      "Costo de Error de Validacion: $ 15.35\n"
     ]
    }
   ],
   "source": [
    "coErrorVal = pAnimal * pValAnimal * erEspecies * 300 + (sCantidades * erCantidades * 650) + pNoAnimal * pValNoAnimal * eFP * 1000\n",
    "print('Costo de Error de Validacion: $', round(coErrorVal,2))"
   ]
  },
  {
   "cell_type": "code",
   "execution_count": 302,
   "metadata": {},
   "outputs": [
    {
     "name": "stdout",
     "output_type": "stream",
     "text": [
      "Costo Operacional de Validacion: $ 0.04\n"
     ]
    }
   ],
   "source": [
    "coOperacionalVal = pVal * tVal * 10730/(8*60*60)\n",
    "print('Costo Operacional de Validacion: $', round(coOperacionalVal,2))"
   ]
  },
  {
   "cell_type": "code",
   "execution_count": 303,
   "metadata": {},
   "outputs": [
    {
     "name": "stdout",
     "output_type": "stream",
     "text": [
      "Costo de Servicio: $ 1100000\n"
     ]
    }
   ],
   "source": [
    "coServicio = 1100000\n",
    "print('Costo de Servicio: $', round(coServicio,2))"
   ]
  },
  {
   "cell_type": "code",
   "execution_count": 304,
   "metadata": {},
   "outputs": [
    {
     "name": "stdout",
     "output_type": "stream",
     "text": [
      "Costo Total: $ 3947309.91\n"
     ]
    }
   ],
   "source": [
    "coTotal = tBase * (coErrorAutomatico + coErrorVal + coOperacionalVal) + coServicio\n",
    "print('Costo Total: $', round(coTotal,2))"
   ]
  },
  {
   "cell_type": "code",
   "execution_count": 305,
   "metadata": {},
   "outputs": [
    {
     "name": "stdout",
     "output_type": "stream",
     "text": [
      "Costo por Imagen: $ 33.24\n"
     ]
    }
   ],
   "source": [
    "coImagen = coTotal/tBase\n",
    "print('Costo por Imagen: $', round(coImagen,2))"
   ]
  },
  {
   "cell_type": "markdown",
   "metadata": {},
   "source": [
    "## KPIs"
   ]
  },
  {
   "cell_type": "markdown",
   "metadata": {},
   "source": [
    "### Tiempo Total del Proceso"
   ]
  },
  {
   "cell_type": "code",
   "execution_count": 306,
   "metadata": {},
   "outputs": [
    {
     "name": "stdout",
     "output_type": "stream",
     "text": [
      "Tiempo Total: \n",
      "- Clasificacion Manual: 152.75 horas\n",
      "- Resultados Semi-Automatica: 20.71 horas\n",
      "Variacion Porcentual:  -86.44 %\n"
     ]
    }
   ],
   "source": [
    "print('Tiempo Total: ')\n",
    "print('- Clasificacion Manual: 152.75 horas')\n",
    "print('- Resultados Semi-Automatica:', round(TTotal,2), 'horas')\n",
    "print('Variacion Porcentual: ', round((TTotal - 152.75)/152.75 * 100,2), '%')"
   ]
  },
  {
   "cell_type": "code",
   "execution_count": 307,
   "metadata": {},
   "outputs": [
    {
     "name": "stdout",
     "output_type": "stream",
     "text": [
      "Jornadas Laborales:\n",
      "- Clasificacion Manual: 19.1 jornadas\n",
      "- Resultados Semi-Automatica:\n",
      "   - Jornadas Ocupadas:  1.6 jornadas\n",
      "    Variacion Porcentual:  -91.61 %\n",
      "    - Jornadas Totales:  2.6 jornadas\n",
      "    Variacion Porcentual:  -86.45 %\n"
     ]
    }
   ],
   "source": [
    "print('Jornadas Laborales:')\n",
    "print('- Clasificacion Manual: 19.1 jornadas')\n",
    "print('- Resultados Semi-Automatica:')\n",
    "print('   - Jornadas Ocupadas: ', round(TVal/8,1), 'jornadas')\n",
    "print('    Variacion Porcentual: ', round((TVal/8 - 19.1)/19.1 * 100,2), '%')\n",
    "print('    - Jornadas Totales: ', round(TTotal/8,1), 'jornadas')\n",
    "print('    Variacion Porcentual: ', round((TTotal/8 - 19.1)/19.1 * 100,2), '%')"
   ]
  },
  {
   "cell_type": "markdown",
   "metadata": {},
   "source": [
    "### Cantidad de Imagenes Analizadas por Hora:"
   ]
  },
  {
   "cell_type": "code",
   "execution_count": 308,
   "metadata": {},
   "outputs": [
    {
     "name": "stdout",
     "output_type": "stream",
     "text": [
      "Cantidad de Imagenes por Hora: \n",
      "- Clasificacion Manual: 777 imagenes/hr\n",
      "- Resultados Semi-Automatica:  5735 imagenes/hr\n",
      "Variacion Porcentual:  638.02 %\n"
     ]
    }
   ],
   "source": [
    "print('Cantidad de Imagenes por Hora: ')\n",
    "print('- Clasificacion Manual: 777 imagenes/hr')\n",
    "print('- Resultados Semi-Automatica: ', math.ceil(cHora), 'imagenes/hr')\n",
    "print('Variacion Porcentual: ', round((cHora - 777)/777 * 100,2), '%')"
   ]
  },
  {
   "cell_type": "markdown",
   "metadata": {},
   "source": [
    "### Precision de Etiquetado:"
   ]
  },
  {
   "cell_type": "code",
   "execution_count": 309,
   "metadata": {},
   "outputs": [
    {
     "name": "stdout",
     "output_type": "stream",
     "text": [
      "Tasa de Error: \n",
      "- Clasificacion Manual: 10%\n",
      "- Resultados Semi-Automatica:  5.6 %\n",
      "Variacion Porcentual:  -43.97 %\n"
     ]
    }
   ],
   "source": [
    "print('Tasa de Error: ')\n",
    "print('- Clasificacion Manual: 10%')\n",
    "print('- Resultados Semi-Automatica: ', round(eErrores * 100,2), '%')\n",
    "print('Variacion Porcentual: ', round((eErrores * 100 - 10)/10 * 100,2), '%')"
   ]
  },
  {
   "cell_type": "code",
   "execution_count": 310,
   "metadata": {},
   "outputs": [
    {
     "name": "stdout",
     "output_type": "stream",
     "text": [
      "Cantidad de Errores: \n",
      "- Clasificacion Manual: 11877 errores\n",
      "- Resultados Semi-Automatica:  3243 errores\n",
      "Variacion Porcentual:  -72.7 %\n"
     ]
    }
   ],
   "source": [
    "print('Cantidad de Errores: ')\n",
    "print('- Clasificacion Manual: 11877 errores')\n",
    "print('- Resultados Semi-Automatica: ', math.ceil(cErrores), 'errores')\n",
    "print('Variacion Porcentual: ', round((cErrores - 11877)/11877 * 100,2), '%')"
   ]
  },
  {
   "cell_type": "markdown",
   "metadata": {},
   "source": [
    "### Costo del Proceso:"
   ]
  },
  {
   "cell_type": "code",
   "execution_count": 311,
   "metadata": {},
   "outputs": [
    {
     "name": "stdout",
     "output_type": "stream",
     "text": [
      "Costo por Imagen:\n",
      "- Clasificacion Manual: $ 56.5\n",
      "- Resultados Semi-Automatica: $ 33.24\n",
      "Variacion Porcentual:  -41.18 %\n"
     ]
    }
   ],
   "source": [
    "print('Costo por Imagen:')\n",
    "print('- Clasificacion Manual: $ 56.5')\n",
    "print('- Resultados Semi-Automatica: $', round(coImagen,2))\n",
    "print('Variacion Porcentual: ', round((coImagen - 56.5)/56.5* 100,2), '%')"
   ]
  },
  {
   "cell_type": "code",
   "execution_count": 312,
   "metadata": {},
   "outputs": [
    {
     "name": "stdout",
     "output_type": "stream",
     "text": [
      "Costo del Proceso:\n",
      "- Clasificacion Manual: $ 6722325.4\n",
      "- Resultados Semi-Automatica: $ 3947309.91\n",
      "Variacion Porcentual:  -41.28 %\n"
     ]
    }
   ],
   "source": [
    "print('Costo del Proceso:')\n",
    "print('- Clasificacion Manual: $ 6722325.4')\n",
    "print('- Resultados Semi-Automatica: $', round(coTotal,2))\n",
    "print('Variacion Porcentual: ', round((coTotal - 6722325.4)/6722325.4 * 100,2), '%')"
   ]
  },
  {
   "cell_type": "markdown",
   "metadata": {},
   "source": [
    "### Ratio de Imagenes Utiles:"
   ]
  },
  {
   "cell_type": "code",
   "execution_count": 313,
   "metadata": {},
   "outputs": [
    {
     "name": "stdout",
     "output_type": "stream",
     "text": [
      "Ratio de Imagenes Utiles: \n",
      "- Clasificacion Manual: 0.79%\n",
      "- Resultados Semi-Automatica: 100%\n",
      "Variacion Porcentual:  12558.23 %\n"
     ]
    }
   ],
   "source": [
    "print('Ratio de Imagenes Utiles: ')\n",
    "print('- Clasificacion Manual: 0.79%')\n",
    "print('- Resultados Semi-Automatica: 100%')\n",
    "print('Variacion Porcentual: ', round((100 - 0.79)/0.79 * 100,2), '%')"
   ]
  },
  {
   "cell_type": "code",
   "execution_count": 314,
   "metadata": {},
   "outputs": [],
   "source": [
    "ResultadosSemiAutomatica = [round(tTotal,2), round(TVal/8,1), round(TTotal/8,1), math.ceil(cHora), round(eErrores * 100,2), math.ceil(cErrores), round(coImagen,2), 100]"
   ]
  },
  {
   "cell_type": "markdown",
   "metadata": {},
   "source": [
    "# Resultados Piloto 2023\n"
   ]
  },
  {
   "cell_type": "code",
   "execution_count": 371,
   "metadata": {},
   "outputs": [
    {
     "name": "stderr",
     "output_type": "stream",
     "text": [
      "/var/folders/6c/17qbm4nd5318hd4bcrx68wjh0000gn/T/ipykernel_66877/1758670802.py:1: DtypeWarning: Columns (5) have mixed types. Specify dtype option on import or set low_memory=False.\n",
      "  df = pd.read_csv('Muestreo_CT_PatAzul2023.csv')\n"
     ]
    }
   ],
   "source": [
    "df = pd.read_csv('Muestreo_CT_PatAzul2023.csv')"
   ]
  },
  {
   "cell_type": "code",
   "execution_count": 316,
   "metadata": {},
   "outputs": [
    {
     "data": {
      "text/plain": [
       "Index(['Unnamed: 0', 'Ruta', 'Sitio', 'Año', 'Camara', 'Extra', 'Archivo',\n",
       "       'Fecha', 'Hora', 'Animal_proba', 'Animal', 'Guanaco_proba', 'Guanaco',\n",
       "       'Especie', 'Cantidad_proba', 'Cantidad', 'Validar', 'Validado'],\n",
       "      dtype='object')"
      ]
     },
     "execution_count": 316,
     "metadata": {},
     "output_type": "execute_result"
    }
   ],
   "source": [
    "df.columns"
   ]
  },
  {
   "cell_type": "code",
   "execution_count": 317,
   "metadata": {},
   "outputs": [
    {
     "data": {
      "text/plain": [
       "(118765, 18)"
      ]
     },
     "execution_count": 317,
     "metadata": {},
     "output_type": "execute_result"
    }
   ],
   "source": [
    "df.shape"
   ]
  },
  {
   "cell_type": "markdown",
   "metadata": {},
   "source": [
    "## Estimacion de Proporciones:"
   ]
  },
  {
   "cell_type": "code",
   "execution_count": 318,
   "metadata": {},
   "outputs": [
    {
     "name": "stdout",
     "output_type": "stream",
     "text": [
      "Proporcion de Imagenes con Animales:  29.2 %\n"
     ]
    }
   ],
   "source": [
    "# Proporcion de Imagenes con Animales\n",
    "pAnimal = sum(df['Animal']==1)/len(df)\n",
    "print('Proporcion de Imagenes con Animales: ', round(pAnimal * 100,2), '%')"
   ]
  },
  {
   "cell_type": "code",
   "execution_count": 319,
   "metadata": {},
   "outputs": [
    {
     "name": "stdout",
     "output_type": "stream",
     "text": [
      "Proporcion de Imagenes sin Animales:  70.8 %\n"
     ]
    }
   ],
   "source": [
    "# Proporcion de Imagenes sin Animales\n",
    "pNoAnimal = sum(df['Animal']==0)/len(df)\n",
    "print('Proporcion de Imagenes sin Animales: ', round(pNoAnimal * 100,2), '%')"
   ]
  },
  {
   "cell_type": "markdown",
   "metadata": {},
   "source": [
    "### Proporciones a Validar"
   ]
  },
  {
   "cell_type": "code",
   "execution_count": 320,
   "metadata": {},
   "outputs": [
    {
     "name": "stdout",
     "output_type": "stream",
     "text": [
      "Proporcion de Imagenes sin Animales a Validar:  13.93 %\n"
     ]
    }
   ],
   "source": [
    "pValNoAnimal = sum((df['Validar']==1) & (df['Animal']==0))/sum(df['Animal']==0)\n",
    "print('Proporcion de Imagenes sin Animales a Validar: ', round(pValNoAnimal * 100,2), '%')"
   ]
  },
  {
   "cell_type": "code",
   "execution_count": 321,
   "metadata": {},
   "outputs": [
    {
     "name": "stdout",
     "output_type": "stream",
     "text": [
      "Proporcion de Imagenes con Animales a Validar:  79.58 %\n"
     ]
    }
   ],
   "source": [
    "pValAnimal = sum((df['Validar']==1) & (df['Animal']==1))/sum(df['Animal']==1)\n",
    "print('Proporcion de Imagenes con Animales a Validar: ', round(pValAnimal * 100,2), '%')"
   ]
  },
  {
   "cell_type": "code",
   "execution_count": 322,
   "metadata": {},
   "outputs": [
    {
     "name": "stdout",
     "output_type": "stream",
     "text": [
      "Porcentaje de Imagenes a Validar:  33.1 %\n"
     ]
    }
   ],
   "source": [
    "# Porcentaje de Imagenes a Validar:\n",
    "pVal = sum(df['Validar']==1)/len(df)\n",
    "print('Porcentaje de Imagenes a Validar: ', round(pVal * 100,2), '%')"
   ]
  },
  {
   "cell_type": "markdown",
   "metadata": {},
   "source": [
    "## Tiempo Total del Proceso:"
   ]
  },
  {
   "cell_type": "markdown",
   "metadata": {},
   "source": [
    "### Tiempo de Ejecucion Automatica:"
   ]
  },
  {
   "cell_type": "markdown",
   "metadata": {},
   "source": [
    "La eficiencia en los tiempos se vio perjudica por el uso de AWS para almacenar las imagenes. Al tener mayor latencia el proceso de consultar las imagenes demora más. Ademas, para consultar las imagenes se debieron tensorificar y extraer los metadatos antes de aplicar los modelos.\n",
    "Se utilizaron multiprocesos concurrentes para hacer el proceso mas rapido. Y tecnicas de autoguardado para que en caso de que se rompa el proceso no se tenga que iniciar desde cero."
   ]
  },
  {
   "cell_type": "code",
   "execution_count": 323,
   "metadata": {},
   "outputs": [
    {
     "name": "stdout",
     "output_type": "stream",
     "text": [
      "Tiempo de Automatizacion:  0.24 segundos por imagen\n"
     ]
    }
   ],
   "source": [
    "# Ratio de 4.18 imagenes por segundo\n",
    "tAutom = 1/4.18\n",
    "print('Tiempo de Automatizacion: ', round(tAutom,2), 'segundos por imagen')"
   ]
  },
  {
   "cell_type": "code",
   "execution_count": 324,
   "metadata": {},
   "outputs": [
    {
     "name": "stdout",
     "output_type": "stream",
     "text": [
      "Tiempo de Automatizacion:  7.89 horas\n",
      "Tiempo de Automatizacion:  1 jornadas\n"
     ]
    }
   ],
   "source": [
    "TAutom = (len(df) * (tAutom))/(60*60)\n",
    "print('Tiempo de Automatizacion: ', round(TAutom,2), 'horas')\n",
    "print('Tiempo de Automatizacion: ', math.ceil(TAutom/8), 'jornadas')"
   ]
  },
  {
   "cell_type": "markdown",
   "metadata": {},
   "source": [
    "Por lo que el tiempo total del proceso automatico es de **7.89 horas**  que son equivalentes a **1 jornada**."
   ]
  },
  {
   "cell_type": "markdown",
   "metadata": {},
   "source": [
    "### Tiempo de Validacion:"
   ]
  },
  {
   "cell_type": "markdown",
   "metadata": {},
   "source": [
    "El porcantaje de imagenes a validar sobre el total de la base es de:"
   ]
  },
  {
   "cell_type": "code",
   "execution_count": 325,
   "metadata": {},
   "outputs": [
    {
     "name": "stdout",
     "output_type": "stream",
     "text": [
      "Tiempo de Validacion:  14.85 horas\n",
      "Tiempo de Validacion:  2 jornadas\n"
     ]
    }
   ],
   "source": [
    "# Tiempo de Validacion:\n",
    "tVal = pVal * 1.36\n",
    "TVal = (len(df) * tVal)/(60*60)\n",
    "print('Tiempo de Validacion: ', round(TVal,2), 'horas')\n",
    "print('Tiempo de Validacion: ', math.ceil(TVal/8), 'jornadas')"
   ]
  },
  {
   "cell_type": "markdown",
   "metadata": {},
   "source": [
    "Por lo que el tiempo total del proceso de validacion es de **14.85 horas**  que son equivalentes a **2 jornadas**."
   ]
  },
  {
   "cell_type": "markdown",
   "metadata": {},
   "source": [
    "### Tiempo Total"
   ]
  },
  {
   "cell_type": "markdown",
   "metadata": {},
   "source": [
    "El tiempo total del proceso sera de:"
   ]
  },
  {
   "cell_type": "code",
   "execution_count": 326,
   "metadata": {},
   "outputs": [
    {
     "name": "stdout",
     "output_type": "stream",
     "text": [
      "Tiempo del Proceso:  22.74 horas\n",
      "Tiempo del Proceso:  2.84 jornadas\n"
     ]
    }
   ],
   "source": [
    "tTotal = tAutom + tVal\n",
    "TTotal = TAutom + TVal\n",
    "print('Tiempo del Proceso: ', round(TTotal,2), 'horas')\n",
    "print('Tiempo del Proceso: ', round(TTotal/8,2), 'jornadas')"
   ]
  },
  {
   "cell_type": "markdown",
   "metadata": {},
   "source": [
    "El proceso completo requiere **2.84 jornadas laborales**  (23 horas). Cabe destacar que de estas solo **15 horas requieren atencion humana**"
   ]
  },
  {
   "cell_type": "markdown",
   "metadata": {},
   "source": [
    "### Cantidad de Imagenes por Hora:"
   ]
  },
  {
   "cell_type": "markdown",
   "metadata": {},
   "source": [
    "Para calcular la cantidad de imágenes que se procesaran por hora se tiene en cuenta tanto el tiempo que tarda en procesarlas los modelos predictivos cómo el tiempo que se tarda en validar aquellas que necesiten un refuerzo en su clasificación. "
   ]
  },
  {
   "cell_type": "code",
   "execution_count": 327,
   "metadata": {},
   "outputs": [
    {
     "name": "stdout",
     "output_type": "stream",
     "text": [
      "Tiempo de Automatizacion:  0.24 segundos\n",
      "Cantidad de Imagenes por Hora:  5222\n"
     ]
    }
   ],
   "source": [
    "print('Tiempo de Automatizacion: ', round(tAutom,2), 'segundos')\n",
    "\n",
    "cHora = 60*60/(tAutom + tVal)\n",
    "print('Cantidad de Imagenes por Hora: ', math.ceil(cHora))"
   ]
  },
  {
   "cell_type": "markdown",
   "metadata": {},
   "source": [
    "### Precision de Etiquetado:"
   ]
  },
  {
   "cell_type": "markdown",
   "metadata": {},
   "source": [
    "Precisión:\n",
    "- Presencias: 96.55%\n",
    "- Especies: 91.43%\n",
    "- Cantidades: 87.04%"
   ]
  },
  {
   "cell_type": "code",
   "execution_count": 328,
   "metadata": {},
   "outputs": [],
   "source": [
    "aPresencias = 96.55\n",
    "aEspecies = 91.43\n",
    "aCantidades = 87.04"
   ]
  },
  {
   "cell_type": "markdown",
   "metadata": {},
   "source": [
    "Seguridad de Prediccion:\n",
    "- Presencias:\n",
    "  - Animal: 92.74%\n",
    "  - No Animal: 95.94%\n",
    "- Especies: 55.34%\n",
    "- Cantidades: 41.79%"
   ]
  },
  {
   "cell_type": "code",
   "execution_count": 329,
   "metadata": {},
   "outputs": [],
   "source": [
    "sAnimal = 92.74/100\n",
    "sNoAnimal = 95.94/100\n",
    "sEspecies = 55.34/100\n",
    "sCantidades = 41.79/100"
   ]
  },
  {
   "cell_type": "markdown",
   "metadata": {},
   "source": [
    "Errores que No se Validan:\n",
    "- Presencias:\n",
    "  - Animal: 2.38%\n",
    "  - No Animal: 1.45%\n",
    "- Especies: 1.41%\n",
    "- Cantidades: 5.22%"
   ]
  },
  {
   "cell_type": "code",
   "execution_count": 330,
   "metadata": {},
   "outputs": [],
   "source": [
    "erAnimal = 2.38/100\n",
    "erNoAnimal = 1.45/100\n",
    "erEspecies = 1.41/100\n",
    "erCantidades = 5.22/100"
   ]
  },
  {
   "cell_type": "code",
   "execution_count": 331,
   "metadata": {},
   "outputs": [
    {
     "name": "stdout",
     "output_type": "stream",
     "text": [
      "Error de Imagenes sin Animales:  0.98 %\n"
     ]
    }
   ],
   "source": [
    "eNoAnimal = pNoAnimal * sNoAnimal * erNoAnimal\n",
    "print('Error de Imagenes sin Animales: ', round(eNoAnimal * 100,2), '%')"
   ]
  },
  {
   "cell_type": "code",
   "execution_count": 332,
   "metadata": {},
   "outputs": [
    {
     "name": "stdout",
     "output_type": "stream",
     "text": [
      "Error de Imagenes con Animales:  0.58 %\n"
     ]
    }
   ],
   "source": [
    "eAnimal = pAnimal * sEspecies * (erEspecies + sCantidades * erCantidades)\n",
    "print('Error de Imagenes con Animales: ', round(eAnimal * 100,2), '%')"
   ]
  },
  {
   "cell_type": "code",
   "execution_count": 333,
   "metadata": {},
   "outputs": [
    {
     "name": "stdout",
     "output_type": "stream",
     "text": [
      "Error Automatico:  1.57 %\n"
     ]
    }
   ],
   "source": [
    "eAutomatico = eNoAnimal + eAnimal\n",
    "print('Error Automatico: ', round(eAutomatico * 100,2), '%')"
   ]
  },
  {
   "cell_type": "code",
   "execution_count": 334,
   "metadata": {},
   "outputs": [
    {
     "name": "stdout",
     "output_type": "stream",
     "text": [
      "Cantidad de Errores:  1860\n"
     ]
    }
   ],
   "source": [
    "cErroresAutom = len(df) * eAutomatico\n",
    "print('Cantidad de Errores: ', math.ceil(cErroresAutom))"
   ]
  },
  {
   "cell_type": "markdown",
   "metadata": {},
   "source": [
    "Tasa de Error en Validacion: Se asume que las tasas de error en el proceso de validación son 50% menores que en la situación actual. \n",
    "- Presencias:\n",
    "  - FP: 0.3%\n",
    "  - FN: 8.35%\n",
    "- Especies: 1.7%\n",
    "- Cantidades: 5%"
   ]
  },
  {
   "cell_type": "code",
   "execution_count": 335,
   "metadata": {},
   "outputs": [],
   "source": [
    "eFP = 0.3/100\n",
    "eFN = 8.35/100\n",
    "eGuanacos = 1.7/100\n",
    "eCantidades = 5/100"
   ]
  },
  {
   "cell_type": "code",
   "execution_count": 336,
   "metadata": {},
   "outputs": [
    {
     "name": "stdout",
     "output_type": "stream",
     "text": [
      "Error de Validacion:  3.99 %\n"
     ]
    }
   ],
   "source": [
    "eValidacion = pAnimal * (eFN + eGuanacos + eCantidades) * pValAnimal + pNoAnimal * eCantidades * pValNoAnimal\n",
    "print('Error de Validacion: ', round(eValidacion * 100,2), '%')"
   ]
  },
  {
   "cell_type": "code",
   "execution_count": 337,
   "metadata": {},
   "outputs": [
    {
     "name": "stdout",
     "output_type": "stream",
     "text": [
      "Cantidad de Errores:  1570\n"
     ]
    }
   ],
   "source": [
    "cErroresVal = len(df) * pVal * eValidacion \n",
    "print('Cantidad de Errores: ', math.ceil(cErroresVal))"
   ]
  },
  {
   "cell_type": "code",
   "execution_count": 338,
   "metadata": {},
   "outputs": [
    {
     "name": "stdout",
     "output_type": "stream",
     "text": [
      "Error Total:  5.56 %\n"
     ]
    }
   ],
   "source": [
    "eErrores = eAutomatico + eValidacion\n",
    "print('Error Total: ', round(eErrores * 100,2), '%')"
   ]
  },
  {
   "cell_type": "code",
   "execution_count": 339,
   "metadata": {},
   "outputs": [
    {
     "name": "stdout",
     "output_type": "stream",
     "text": [
      "Cantidad de Errores:  3429\n"
     ]
    }
   ],
   "source": [
    "cErrores = cErroresAutom + cErroresVal\n",
    "print('Cantidad de Errores: ', math.ceil(cErrores))"
   ]
  },
  {
   "cell_type": "markdown",
   "metadata": {},
   "source": [
    "### Costos del Proceso:"
   ]
  },
  {
   "cell_type": "markdown",
   "metadata": {},
   "source": [
    "- Costo Falso Negativo: $300\n",
    "- Costo Falso Positivo: $1000\n",
    "- Costo Error en Especies: $1300\n",
    "- Costo Error en Cantidad: $650"
   ]
  },
  {
   "cell_type": "code",
   "execution_count": 340,
   "metadata": {},
   "outputs": [
    {
     "name": "stdout",
     "output_type": "stream",
     "text": [
      "Costo de Error de Imagenes sin Animales: $ 2.95\n"
     ]
    }
   ],
   "source": [
    "coErrorNoAnimal = eNoAnimal * 300\n",
    "print('Costo de Error de Imagenes sin Animales: $', round(coErrorNoAnimal,2))"
   ]
  },
  {
   "cell_type": "code",
   "execution_count": 341,
   "metadata": {},
   "outputs": [
    {
     "name": "stdout",
     "output_type": "stream",
     "text": [
      "Costo de Error de Imagenes con Animales: $ 5.25\n"
     ]
    }
   ],
   "source": [
    "coErrorAnimal = pAnimal * sEspecies * (erEspecies * 1300 + sCantidades * erCantidades * 650)\n",
    "print('Costo de Error de Imagenes con Animales: $', round(coErrorAnimal,2))"
   ]
  },
  {
   "cell_type": "code",
   "execution_count": 342,
   "metadata": {},
   "outputs": [
    {
     "name": "stdout",
     "output_type": "stream",
     "text": [
      "Costo de Error Automatico: $ 8.21\n"
     ]
    }
   ],
   "source": [
    "coErrorAutomatico = coErrorNoAnimal + coErrorAnimal\n",
    "print('Costo de Error Automatico: $', round(coErrorAutomatico,2))"
   ]
  },
  {
   "cell_type": "code",
   "execution_count": 343,
   "metadata": {},
   "outputs": [
    {
     "name": "stdout",
     "output_type": "stream",
     "text": [
      "Costo de Error de Validacion: $ 15.46\n"
     ]
    }
   ],
   "source": [
    "coErrorVal = pAnimal * pValAnimal * erEspecies * 300 + (sCantidades * erCantidades * 650) + pNoAnimal * pValNoAnimal * eFP * 1000\n",
    "print('Costo de Error de Validacion: $', round(coErrorVal,2))"
   ]
  },
  {
   "cell_type": "code",
   "execution_count": 344,
   "metadata": {},
   "outputs": [
    {
     "name": "stdout",
     "output_type": "stream",
     "text": [
      "Costo Operacional de Validacion: $ 0.06\n"
     ]
    }
   ],
   "source": [
    "coOperacionalVal = pVal * tVal * 10730/(8*60*60)\n",
    "print('Costo Operacional de Validacion: $', round(coOperacionalVal,2))"
   ]
  },
  {
   "cell_type": "code",
   "execution_count": 345,
   "metadata": {},
   "outputs": [
    {
     "name": "stdout",
     "output_type": "stream",
     "text": [
      "Costo de Servicio: $ 1100000\n"
     ]
    }
   ],
   "source": [
    "coServicio = 1100000\n",
    "print('Costo de Servicio: $', round(coServicio,2))"
   ]
  },
  {
   "cell_type": "code",
   "execution_count": 346,
   "metadata": {},
   "outputs": [
    {
     "name": "stdout",
     "output_type": "stream",
     "text": [
      "Costo Total: $ 3917405.1\n"
     ]
    }
   ],
   "source": [
    "coTotal = len(df) * (coErrorAutomatico + coErrorVal + coOperacionalVal) + coServicio\n",
    "print('Costo Total: $', round(coTotal,2))"
   ]
  },
  {
   "cell_type": "code",
   "execution_count": 347,
   "metadata": {},
   "outputs": [
    {
     "name": "stdout",
     "output_type": "stream",
     "text": [
      "Costo por Imagen: $ 32.98\n"
     ]
    }
   ],
   "source": [
    "coImagen = coTotal/len(df)\n",
    "print('Costo por Imagen: $', round(coImagen,2))"
   ]
  },
  {
   "cell_type": "markdown",
   "metadata": {},
   "source": [
    "## KPIs"
   ]
  },
  {
   "cell_type": "markdown",
   "metadata": {},
   "source": [
    "### Tiempo Total del Proceso"
   ]
  },
  {
   "cell_type": "code",
   "execution_count": 348,
   "metadata": {},
   "outputs": [
    {
     "name": "stdout",
     "output_type": "stream",
     "text": [
      "Tiempo Total: \n",
      "- Clasificacion Manual: 152.75 horas\n",
      "- Solucion Semi-Automatica: 22.74 horas\n",
      "Variacion Porcentual:  -85.11 %\n"
     ]
    }
   ],
   "source": [
    "print('Tiempo Total: ')\n",
    "print('- Clasificacion Manual: 152.75 horas')\n",
    "print('- Solucion Semi-Automatica:', round(TTotal,2), 'horas')\n",
    "print('Variacion Porcentual: ', round((TTotal - 152.75)/152.75 * 100,2), '%')"
   ]
  },
  {
   "cell_type": "code",
   "execution_count": 349,
   "metadata": {},
   "outputs": [
    {
     "name": "stdout",
     "output_type": "stream",
     "text": [
      "Jornadas Laborales:\n",
      "- Clasificacion Manual: 19.1 jornadas\n",
      "- Solucion Semi-Automatica:\n",
      "   - Jornadas Ocupadas:  1.9 jornadas\n",
      "    Variacion Porcentual:  -90.28 %\n",
      "    - Jornadas Totales:  2.8 jornadas\n",
      "    Variacion Porcentual:  -85.11 %\n"
     ]
    }
   ],
   "source": [
    "print('Jornadas Laborales:')\n",
    "print('- Clasificacion Manual: 19.1 jornadas')\n",
    "print('- Solucion Semi-Automatica:')\n",
    "print('   - Jornadas Ocupadas: ', round(TVal/8,1), 'jornadas')\n",
    "print('    Variacion Porcentual: ', round((TVal/8 - 19.1)/19.1 * 100,2), '%')\n",
    "print('    - Jornadas Totales: ', round(TTotal/8,1), 'jornadas')\n",
    "print('    Variacion Porcentual: ', round((TTotal/8 - 19.1)/19.1 * 100,2), '%')"
   ]
  },
  {
   "cell_type": "markdown",
   "metadata": {},
   "source": [
    "### Cantidad de Imagenes Analizadas por Hora:"
   ]
  },
  {
   "cell_type": "code",
   "execution_count": 350,
   "metadata": {},
   "outputs": [
    {
     "name": "stdout",
     "output_type": "stream",
     "text": [
      "Cantidad de Imagenes por Hora: \n",
      "- Clasificacion Manual: 777 imagenes/hr\n",
      "- Solucion Semi-Automatica:  5222 imagenes/hr\n",
      "Variacion Porcentual:  572.03 %\n"
     ]
    }
   ],
   "source": [
    "print('Cantidad de Imagenes por Hora: ')\n",
    "print('- Clasificacion Manual: 777 imagenes/hr')\n",
    "print('- Solucion Semi-Automatica: ', math.ceil(cHora), 'imagenes/hr')\n",
    "print('Variacion Porcentual: ', round((cHora - 777)/777 * 100,2), '%')"
   ]
  },
  {
   "cell_type": "markdown",
   "metadata": {},
   "source": [
    "### Precision de Etiquetado:"
   ]
  },
  {
   "cell_type": "code",
   "execution_count": 351,
   "metadata": {},
   "outputs": [
    {
     "name": "stdout",
     "output_type": "stream",
     "text": [
      "Tasa de Error: \n",
      "- Clasificacion Manual: 10%\n",
      "- Solucion Semi-Automatica:  5.56 %\n",
      "Variacion Porcentual:  -44.44 %\n"
     ]
    }
   ],
   "source": [
    "print('Tasa de Error: ')\n",
    "print('- Clasificacion Manual: 10%')\n",
    "print('- Solucion Semi-Automatica: ', round(eErrores * 100,2), '%')\n",
    "print('Variacion Porcentual: ', round((eErrores * 100 - 10)/10 * 100,2), '%')"
   ]
  },
  {
   "cell_type": "code",
   "execution_count": 352,
   "metadata": {},
   "outputs": [
    {
     "name": "stdout",
     "output_type": "stream",
     "text": [
      "Cantidad de Errores: \n",
      "- Clasificacion Manual: 11877 errores\n",
      "- Solucion Semi-Automatica:  3429 errores\n",
      "Variacion Porcentual:  -71.14 %\n"
     ]
    }
   ],
   "source": [
    "print('Cantidad de Errores: ')\n",
    "print('- Clasificacion Manual: 11877 errores')\n",
    "print('- Solucion Semi-Automatica: ', math.ceil(cErrores), 'errores')\n",
    "print('Variacion Porcentual: ', round((cErrores - 11877)/11877 * 100,2), '%')"
   ]
  },
  {
   "cell_type": "markdown",
   "metadata": {},
   "source": [
    "### Costo del Proceso:"
   ]
  },
  {
   "cell_type": "code",
   "execution_count": 353,
   "metadata": {},
   "outputs": [
    {
     "name": "stdout",
     "output_type": "stream",
     "text": [
      "Costo por Imagen:\n",
      "- Clasificacion Manual: $ 56.5\n",
      "- Solucion Semi-Automatica: $ 32.98\n",
      "Variacion Porcentual:  -41.62 %\n"
     ]
    }
   ],
   "source": [
    "print('Costo por Imagen:')\n",
    "print('- Clasificacion Manual: $ 56.5')\n",
    "print('- Solucion Semi-Automatica: $', round(coImagen,2))\n",
    "print('Variacion Porcentual: ', round((coImagen - 56.5)/56.5* 100,2), '%')"
   ]
  },
  {
   "cell_type": "code",
   "execution_count": 354,
   "metadata": {},
   "outputs": [
    {
     "name": "stdout",
     "output_type": "stream",
     "text": [
      "Costo del Proceso:\n",
      "- Clasificacion Manual: $ 6722325.4\n",
      "- Solucion Semi-Automatica: $ 3917405.1\n",
      "Variacion Porcentual:  -41.73 %\n"
     ]
    }
   ],
   "source": [
    "print('Costo del Proceso:')\n",
    "print('- Clasificacion Manual: $ 6722325.4')\n",
    "print('- Solucion Semi-Automatica: $', round(coTotal,2))\n",
    "print('Variacion Porcentual: ', round((coTotal - 6722325.4)/6722325.4 * 100,2), '%')"
   ]
  },
  {
   "cell_type": "markdown",
   "metadata": {},
   "source": [
    "### Ratio de Imagenes Utiles:"
   ]
  },
  {
   "cell_type": "code",
   "execution_count": 355,
   "metadata": {},
   "outputs": [
    {
     "name": "stdout",
     "output_type": "stream",
     "text": [
      "Ratio de Imagenes Utiles: \n",
      "- Clasificacion Manual: 0.79%\n",
      "- Solucion Semi-Automatica: 100%\n",
      "Variacion Porcentual:  12558.23 %\n"
     ]
    }
   ],
   "source": [
    "print('Ratio de Imagenes Utiles: ')\n",
    "print('- Clasificacion Manual: 0.79%')\n",
    "print('- Solucion Semi-Automatica: 100%')\n",
    "print('Variacion Porcentual: ', round((100 - 0.79)/0.79 * 100,2), '%')"
   ]
  },
  {
   "cell_type": "code",
   "execution_count": 356,
   "metadata": {},
   "outputs": [],
   "source": [
    "solucionSemiAutomatica=[round(tTotal,2), round(TVal/8,1), round(TTotal/8,1), math.ceil(cHora), round(eErrores * 100,2), math.ceil(cErrores), round(coImagen,2), 100 ]"
   ]
  },
  {
   "cell_type": "markdown",
   "metadata": {},
   "source": [
    "# Resultados:"
   ]
  },
  {
   "cell_type": "code",
   "execution_count": 357,
   "metadata": {},
   "outputs": [],
   "source": [
    "df = pd.read_csv('resultados.csv')"
   ]
  },
  {
   "cell_type": "code",
   "execution_count": 358,
   "metadata": {},
   "outputs": [],
   "source": [
    "df['Resultados Semi-Automatica'] = ResultadosSemiAutomatica"
   ]
  },
  {
   "cell_type": "code",
   "execution_count": 359,
   "metadata": {},
   "outputs": [],
   "source": [
    "df[\"Solucion Semi-Automatica\"] = solucionSemiAutomatica"
   ]
  },
  {
   "cell_type": "code",
   "execution_count": 360,
   "metadata": {},
   "outputs": [
    {
     "data": {
      "text/html": [
       "<div>\n",
       "<style scoped>\n",
       "    .dataframe tbody tr th:only-of-type {\n",
       "        vertical-align: middle;\n",
       "    }\n",
       "\n",
       "    .dataframe tbody tr th {\n",
       "        vertical-align: top;\n",
       "    }\n",
       "\n",
       "    .dataframe thead th {\n",
       "        text-align: right;\n",
       "    }\n",
       "</style>\n",
       "<table border=\"1\" class=\"dataframe\">\n",
       "  <thead>\n",
       "    <tr style=\"text-align: right;\">\n",
       "      <th></th>\n",
       "      <th>KPI</th>\n",
       "      <th>Clasificacion Manual</th>\n",
       "      <th>Estimacion Automatica</th>\n",
       "      <th>Estimacion Semi-Automatica</th>\n",
       "      <th>Resultados Semi-Automatica</th>\n",
       "      <th>Solucion Semi-Automatica</th>\n",
       "      <th>Variacion Porcentual (%)</th>\n",
       "    </tr>\n",
       "  </thead>\n",
       "  <tbody>\n",
       "    <tr>\n",
       "      <th>0</th>\n",
       "      <td>Segundos por Imagen</td>\n",
       "      <td>4.63</td>\n",
       "      <td>0.56</td>\n",
       "      <td>1.84</td>\n",
       "      <td>0.63</td>\n",
       "      <td>0.69</td>\n",
       "      <td>-85.10</td>\n",
       "    </tr>\n",
       "    <tr>\n",
       "      <th>1</th>\n",
       "      <td>Jornadas Ocupadas</td>\n",
       "      <td>19.10</td>\n",
       "      <td>0.00</td>\n",
       "      <td>1.60</td>\n",
       "      <td>1.60</td>\n",
       "      <td>1.90</td>\n",
       "      <td>-90.05</td>\n",
       "    </tr>\n",
       "    <tr>\n",
       "      <th>2</th>\n",
       "      <td>Jornadas Totales</td>\n",
       "      <td>19.10</td>\n",
       "      <td>2.30</td>\n",
       "      <td>7.60</td>\n",
       "      <td>2.60</td>\n",
       "      <td>2.80</td>\n",
       "      <td>-85.34</td>\n",
       "    </tr>\n",
       "    <tr>\n",
       "      <th>3</th>\n",
       "      <td>Imagenes por Hora</td>\n",
       "      <td>777.00</td>\n",
       "      <td>6480.00</td>\n",
       "      <td>1962.00</td>\n",
       "      <td>5735.00</td>\n",
       "      <td>5222.00</td>\n",
       "      <td>572.07</td>\n",
       "    </tr>\n",
       "    <tr>\n",
       "      <th>4</th>\n",
       "      <td>Tasa de Error</td>\n",
       "      <td>10.00</td>\n",
       "      <td>16.30</td>\n",
       "      <td>6.13</td>\n",
       "      <td>5.60</td>\n",
       "      <td>5.56</td>\n",
       "      <td>-44.40</td>\n",
       "    </tr>\n",
       "    <tr>\n",
       "      <th>5</th>\n",
       "      <td>Cantidad de Errores</td>\n",
       "      <td>11877.00</td>\n",
       "      <td>19357.00</td>\n",
       "      <td>7281.00</td>\n",
       "      <td>3243.00</td>\n",
       "      <td>3429.00</td>\n",
       "      <td>-71.13</td>\n",
       "    </tr>\n",
       "    <tr>\n",
       "      <th>6</th>\n",
       "      <td>Costo por Imagen</td>\n",
       "      <td>56.50</td>\n",
       "      <td>115.59</td>\n",
       "      <td>22.69</td>\n",
       "      <td>33.24</td>\n",
       "      <td>32.98</td>\n",
       "      <td>-41.63</td>\n",
       "    </tr>\n",
       "    <tr>\n",
       "      <th>7</th>\n",
       "      <td>Ratio de Imagenes Utiles</td>\n",
       "      <td>0.79</td>\n",
       "      <td>100.00</td>\n",
       "      <td>100.00</td>\n",
       "      <td>100.00</td>\n",
       "      <td>100.00</td>\n",
       "      <td>12558.23</td>\n",
       "    </tr>\n",
       "  </tbody>\n",
       "</table>\n",
       "</div>"
      ],
      "text/plain": [
       "                        KPI  Clasificacion Manual  Estimacion Automatica  \\\n",
       "0       Segundos por Imagen                  4.63                   0.56   \n",
       "1         Jornadas Ocupadas                 19.10                   0.00   \n",
       "2          Jornadas Totales                 19.10                   2.30   \n",
       "3         Imagenes por Hora                777.00                6480.00   \n",
       "4             Tasa de Error                 10.00                  16.30   \n",
       "5       Cantidad de Errores              11877.00               19357.00   \n",
       "6          Costo por Imagen                 56.50                 115.59   \n",
       "7  Ratio de Imagenes Utiles                  0.79                 100.00   \n",
       "\n",
       "   Estimacion Semi-Automatica  Resultados Semi-Automatica  \\\n",
       "0                        1.84                        0.63   \n",
       "1                        1.60                        1.60   \n",
       "2                        7.60                        2.60   \n",
       "3                     1962.00                     5735.00   \n",
       "4                        6.13                        5.60   \n",
       "5                     7281.00                     3243.00   \n",
       "6                       22.69                       33.24   \n",
       "7                      100.00                      100.00   \n",
       "\n",
       "   Solucion Semi-Automatica  Variacion Porcentual (%)  \n",
       "0                      0.69                    -85.10  \n",
       "1                      1.90                    -90.05  \n",
       "2                      2.80                    -85.34  \n",
       "3                   5222.00                    572.07  \n",
       "4                      5.56                    -44.40  \n",
       "5                   3429.00                    -71.13  \n",
       "6                     32.98                    -41.63  \n",
       "7                    100.00                  12558.23  "
      ]
     },
     "execution_count": 360,
     "metadata": {},
     "output_type": "execute_result"
    }
   ],
   "source": [
    "df[\"Variacion Porcentual (%)\"] = round((df[\"Solucion Semi-Automatica\"] - df[\"Clasificacion Manual\"]) / df[\"Clasificacion Manual\"] * 100, 2)\n",
    "df"
   ]
  }
 ],
 "metadata": {
  "kernelspec": {
   "display_name": "ENV",
   "language": "python",
   "name": "python3"
  },
  "language_info": {
   "codemirror_mode": {
    "name": "ipython",
    "version": 3
   },
   "file_extension": ".py",
   "mimetype": "text/x-python",
   "name": "python",
   "nbconvert_exporter": "python",
   "pygments_lexer": "ipython3",
   "version": "3.9.6"
  }
 },
 "nbformat": 4,
 "nbformat_minor": 2
}
