{
 "cells": [
  {
   "cell_type": "markdown",
   "metadata": {},
   "source": [
    "# Verificacion de Estimaciones para la Campaña 2023."
   ]
  },
  {
   "cell_type": "code",
   "execution_count": 1,
   "metadata": {},
   "outputs": [],
   "source": [
    "import seaborn as sns\n",
    "import pandas as pd\n",
    "import numpy as np"
   ]
  },
  {
   "cell_type": "code",
   "execution_count": 4,
   "metadata": {},
   "outputs": [
    {
     "name": "stderr",
     "output_type": "stream",
     "text": [
      "/var/folders/6c/17qbm4nd5318hd4bcrx68wjh0000gn/T/ipykernel_21089/1758670802.py:1: DtypeWarning: Columns (4) have mixed types. Specify dtype option on import or set low_memory=False.\n",
      "  df = pd.read_csv('Muestreo_CT_PatAzul2023.csv')\n"
     ]
    }
   ],
   "source": [
    "df = pd.read_csv('Muestreo_CT_PatAzul2023.csv')"
   ]
  },
  {
   "cell_type": "code",
   "execution_count": 6,
   "metadata": {},
   "outputs": [
    {
     "data": {
      "text/plain": [
       "Index(['Ruta', 'Sitio', 'Año', 'Camara', 'Extra', 'Archivo', 'Fecha', 'Hora',\n",
       "       'Animal_proba', 'Animal', 'Guanaco_proba', 'Guanaco', 'Especie',\n",
       "       'Cantidad_proba', 'Cantidad', 'Validar', 'Validado'],\n",
       "      dtype='object')"
      ]
     },
     "execution_count": 6,
     "metadata": {},
     "output_type": "execute_result"
    }
   ],
   "source": [
    "df.columns"
   ]
  },
  {
   "cell_type": "markdown",
   "metadata": {},
   "source": [
    "## Estimacion de Proporciones:"
   ]
  },
  {
   "cell_type": "code",
   "execution_count": 10,
   "metadata": {},
   "outputs": [
    {
     "data": {
      "text/plain": [
       "0.8345472150886204"
      ]
     },
     "execution_count": 10,
     "metadata": {},
     "output_type": "execute_result"
    }
   ],
   "source": [
    "# Proporcion de Imagenes con Animales\n",
    "sum(df['Animal']==1)/len(df)"
   ]
  },
  {
   "cell_type": "code",
   "execution_count": null,
   "metadata": {},
   "outputs": [],
   "source": [
    "# Proporcion de Imagenes sin Animales\n",
    "sum(df['Animal']==0)/len(df)"
   ]
  },
  {
   "cell_type": "markdown",
   "metadata": {},
   "source": [
    "## Tiempo Total del Proceso:"
   ]
  },
  {
   "cell_type": "markdown",
   "metadata": {},
   "source": [
    "### Tiempo de Ejecucion Automatica:"
   ]
  },
  {
   "cell_type": "markdown",
   "metadata": {},
   "source": [
    "La eficiencia en los tiempos se vio perjudica por el uso de AWS para almacenar las imagenes. Al tener mayor latencia el proceso de consultar las imagenes demora más. Ademas, para consultar las imagenes se debieron tensorificar y extraer los metadatos antes de aplicar los modelos."
   ]
  },
  {
   "cell_type": "markdown",
   "metadata": {},
   "source": [
    "Se utilizaron multiprocesos concurrentes para hacer el proceso mas rapido. Y tecnicas de autoguardado para que en caso de que se rompa el proceso no se tenga que iniciar desde cero."
   ]
  },
  {
   "cell_type": "markdown",
   "metadata": {},
   "source": [
    "- Tensorificacion: 1.3 imagenes por segundo, por lo que el proceso completo llevo 25.4 horas.\n",
    "- Extraccion de Metadata: 2.39 imagenes por segundo, por lo que el proceso completo llevo 13.8 horas.\n",
    "- Modelos: XXXX\n",
    "\n",
    "Por lo que el tiempo total del proceso es de **XX horas**  que son equivalentes a **XX jornadas**."
   ]
  },
  {
   "cell_type": "markdown",
   "metadata": {},
   "source": [
    "### Tiempo de Validacion:"
   ]
  },
  {
   "cell_type": "markdown",
   "metadata": {},
   "source": [
    "El porcantaje de imagenes a validar sobre el total de la base es de:"
   ]
  },
  {
   "cell_type": "code",
   "execution_count": 8,
   "metadata": {},
   "outputs": [
    {
     "data": {
      "text/plain": [
       "0.8700879888856144"
      ]
     },
     "execution_count": 8,
     "metadata": {},
     "output_type": "execute_result"
    }
   ],
   "source": [
    "# Porcentaje de Imagenes a Validar:\n",
    "sum(df['Validar']==1)/len(df)"
   ]
  },
  {
   "cell_type": "code",
   "execution_count": 9,
   "metadata": {},
   "outputs": [
    {
     "data": {
      "text/plain": [
       "Validar\n",
       "True     103336\n",
       "False     15429\n",
       "Name: count, dtype: int64"
      ]
     },
     "execution_count": 9,
     "metadata": {},
     "output_type": "execute_result"
    }
   ],
   "source": [
    "df['Validar'].value_counts()"
   ]
  },
  {
   "cell_type": "code",
   "execution_count": 25,
   "metadata": {},
   "outputs": [
    {
     "name": "stderr",
     "output_type": "stream",
     "text": [
      "/var/folders/6c/17qbm4nd5318hd4bcrx68wjh0000gn/T/ipykernel_1534/1758670802.py:1: DtypeWarning: Columns (4) have mixed types. Specify dtype option on import or set low_memory=False.\n",
      "  df = pd.read_csv('Muestreo_CT_PatAzul2023.csv')\n"
     ]
    }
   ],
   "source": [
    "df = pd.read_csv('Muestreo_CT_PatAzul2023.csv')"
   ]
  },
  {
   "cell_type": "code",
   "execution_count": 16,
   "metadata": {},
   "outputs": [],
   "source": [
    "df = pd.read_feather('ArchivosUtiles/df.feather')"
   ]
  },
  {
   "cell_type": "code",
   "execution_count": 17,
   "metadata": {},
   "outputs": [
    {
     "name": "stdout",
     "output_type": "stream",
     "text": [
      "<class 'pandas.core.frame.DataFrame'>\n",
      "RangeIndex: 118765 entries, 0 to 118764\n",
      "Data columns (total 17 columns):\n",
      " #   Column          Non-Null Count   Dtype  \n",
      "---  ------          --------------   -----  \n",
      " 0   Ruta            118765 non-null  object \n",
      " 1   Sitio           118765 non-null  object \n",
      " 2   Año             118765 non-null  object \n",
      " 3   Camara          118765 non-null  object \n",
      " 4   Extra           3662 non-null    object \n",
      " 5   Archivo         118765 non-null  object \n",
      " 6   Fecha           118751 non-null  object \n",
      " 7   Hora            118751 non-null  object \n",
      " 8   Animal_proba    118765 non-null  float64\n",
      " 9   Animal          116706 non-null  float64\n",
      " 10  Guanaco_proba   77036 non-null   float64\n",
      " 11  Guanaco         77036 non-null   float64\n",
      " 12  Especie         9516 non-null    object \n",
      " 13  Cantidad_proba  9516 non-null    float64\n",
      " 14  Cantidad        9516 non-null    float64\n",
      " 15  Validar         118765 non-null  bool   \n",
      " 16  Validado        118765 non-null  float64\n",
      "dtypes: bool(1), float64(7), object(9)\n",
      "memory usage: 14.6+ MB\n"
     ]
    }
   ],
   "source": [
    "df.info()"
   ]
  },
  {
   "cell_type": "code",
   "execution_count": 3,
   "metadata": {},
   "outputs": [
    {
     "data": {
      "text/html": [
       "<div>\n",
       "<style scoped>\n",
       "    .dataframe tbody tr th:only-of-type {\n",
       "        vertical-align: middle;\n",
       "    }\n",
       "\n",
       "    .dataframe tbody tr th {\n",
       "        vertical-align: top;\n",
       "    }\n",
       "\n",
       "    .dataframe thead th {\n",
       "        text-align: right;\n",
       "    }\n",
       "</style>\n",
       "<table border=\"1\" class=\"dataframe\">\n",
       "  <thead>\n",
       "    <tr style=\"text-align: right;\">\n",
       "      <th></th>\n",
       "      <th>Unnamed: 0</th>\n",
       "      <th>Ruta</th>\n",
       "      <th>Sitio</th>\n",
       "      <th>Año</th>\n",
       "      <th>Camara</th>\n",
       "      <th>Extra</th>\n",
       "      <th>Archivo</th>\n",
       "      <th>Fecha</th>\n",
       "      <th>Hora</th>\n",
       "      <th>Animal_proba</th>\n",
       "      <th>Animal</th>\n",
       "      <th>Guanaco_proba</th>\n",
       "      <th>Guanaco</th>\n",
       "      <th>Especie</th>\n",
       "      <th>Cantidad_proba</th>\n",
       "      <th>Cantidad</th>\n",
       "      <th>Validar</th>\n",
       "      <th>Validado</th>\n",
       "    </tr>\n",
       "  </thead>\n",
       "  <tbody>\n",
       "    <tr>\n",
       "      <th>0</th>\n",
       "      <td>0</td>\n",
       "      <td>Muestreo ct Iberica/2023/Ib1/100_BTCF/IMG_0001...</td>\n",
       "      <td>Muestreo ct Iberica</td>\n",
       "      <td>2023</td>\n",
       "      <td>Ib1</td>\n",
       "      <td>100_BTCF</td>\n",
       "      <td>IMG_0001.JPG</td>\n",
       "      <td>2023-02-08</td>\n",
       "      <td>12:22:51</td>\n",
       "      <td>0.939226</td>\n",
       "      <td>1.0</td>\n",
       "      <td>NaN</td>\n",
       "      <td>NaN</td>\n",
       "      <td>NaN</td>\n",
       "      <td>NaN</td>\n",
       "      <td>NaN</td>\n",
       "      <td>True</td>\n",
       "      <td>0.0</td>\n",
       "    </tr>\n",
       "    <tr>\n",
       "      <th>1</th>\n",
       "      <td>1</td>\n",
       "      <td>Muestreo ct Iberica/2023/Ib1/100_BTCF/IMG_0002...</td>\n",
       "      <td>Muestreo ct Iberica</td>\n",
       "      <td>2023</td>\n",
       "      <td>Ib1</td>\n",
       "      <td>100_BTCF</td>\n",
       "      <td>IMG_0002.JPG</td>\n",
       "      <td>2023-02-08</td>\n",
       "      <td>12:22:53</td>\n",
       "      <td>0.009811</td>\n",
       "      <td>0.0</td>\n",
       "      <td>NaN</td>\n",
       "      <td>NaN</td>\n",
       "      <td>NaN</td>\n",
       "      <td>NaN</td>\n",
       "      <td>NaN</td>\n",
       "      <td>False</td>\n",
       "      <td>0.0</td>\n",
       "    </tr>\n",
       "    <tr>\n",
       "      <th>2</th>\n",
       "      <td>2</td>\n",
       "      <td>Muestreo ct Iberica/2023/Ib1/100_BTCF/IMG_0003...</td>\n",
       "      <td>Muestreo ct Iberica</td>\n",
       "      <td>2023</td>\n",
       "      <td>Ib1</td>\n",
       "      <td>100_BTCF</td>\n",
       "      <td>IMG_0003.JPG</td>\n",
       "      <td>2023-02-08</td>\n",
       "      <td>12:22:55</td>\n",
       "      <td>0.967046</td>\n",
       "      <td>1.0</td>\n",
       "      <td>0.000047</td>\n",
       "      <td>0.0</td>\n",
       "      <td>NaN</td>\n",
       "      <td>NaN</td>\n",
       "      <td>NaN</td>\n",
       "      <td>True</td>\n",
       "      <td>0.0</td>\n",
       "    </tr>\n",
       "    <tr>\n",
       "      <th>3</th>\n",
       "      <td>3</td>\n",
       "      <td>Muestreo ct Iberica/2023/Ib1/100_BTCF/IMG_0004...</td>\n",
       "      <td>Muestreo ct Iberica</td>\n",
       "      <td>2023</td>\n",
       "      <td>Ib1</td>\n",
       "      <td>100_BTCF</td>\n",
       "      <td>IMG_0004.JPG</td>\n",
       "      <td>2023-02-08</td>\n",
       "      <td>12:22:59</td>\n",
       "      <td>0.672598</td>\n",
       "      <td>1.0</td>\n",
       "      <td>NaN</td>\n",
       "      <td>NaN</td>\n",
       "      <td>NaN</td>\n",
       "      <td>NaN</td>\n",
       "      <td>NaN</td>\n",
       "      <td>True</td>\n",
       "      <td>0.0</td>\n",
       "    </tr>\n",
       "    <tr>\n",
       "      <th>4</th>\n",
       "      <td>4</td>\n",
       "      <td>Muestreo ct Iberica/2023/Ib1/100_BTCF/IMG_0005...</td>\n",
       "      <td>Muestreo ct Iberica</td>\n",
       "      <td>2023</td>\n",
       "      <td>Ib1</td>\n",
       "      <td>100_BTCF</td>\n",
       "      <td>IMG_0005.JPG</td>\n",
       "      <td>2023-02-08</td>\n",
       "      <td>12:23:01</td>\n",
       "      <td>0.764521</td>\n",
       "      <td>1.0</td>\n",
       "      <td>NaN</td>\n",
       "      <td>NaN</td>\n",
       "      <td>NaN</td>\n",
       "      <td>NaN</td>\n",
       "      <td>NaN</td>\n",
       "      <td>True</td>\n",
       "      <td>0.0</td>\n",
       "    </tr>\n",
       "  </tbody>\n",
       "</table>\n",
       "</div>"
      ],
      "text/plain": [
       "   Unnamed: 0                                               Ruta  \\\n",
       "0           0  Muestreo ct Iberica/2023/Ib1/100_BTCF/IMG_0001...   \n",
       "1           1  Muestreo ct Iberica/2023/Ib1/100_BTCF/IMG_0002...   \n",
       "2           2  Muestreo ct Iberica/2023/Ib1/100_BTCF/IMG_0003...   \n",
       "3           3  Muestreo ct Iberica/2023/Ib1/100_BTCF/IMG_0004...   \n",
       "4           4  Muestreo ct Iberica/2023/Ib1/100_BTCF/IMG_0005...   \n",
       "\n",
       "                 Sitio   Año Camara     Extra       Archivo       Fecha  \\\n",
       "0  Muestreo ct Iberica  2023    Ib1  100_BTCF  IMG_0001.JPG  2023-02-08   \n",
       "1  Muestreo ct Iberica  2023    Ib1  100_BTCF  IMG_0002.JPG  2023-02-08   \n",
       "2  Muestreo ct Iberica  2023    Ib1  100_BTCF  IMG_0003.JPG  2023-02-08   \n",
       "3  Muestreo ct Iberica  2023    Ib1  100_BTCF  IMG_0004.JPG  2023-02-08   \n",
       "4  Muestreo ct Iberica  2023    Ib1  100_BTCF  IMG_0005.JPG  2023-02-08   \n",
       "\n",
       "       Hora  Animal_proba  Animal  Guanaco_proba  Guanaco Especie  \\\n",
       "0  12:22:51      0.939226     1.0            NaN      NaN     NaN   \n",
       "1  12:22:53      0.009811     0.0            NaN      NaN     NaN   \n",
       "2  12:22:55      0.967046     1.0       0.000047      0.0     NaN   \n",
       "3  12:22:59      0.672598     1.0            NaN      NaN     NaN   \n",
       "4  12:23:01      0.764521     1.0            NaN      NaN     NaN   \n",
       "\n",
       "   Cantidad_proba  Cantidad  Validar  Validado  \n",
       "0             NaN       NaN     True       0.0  \n",
       "1             NaN       NaN    False       0.0  \n",
       "2             NaN       NaN     True       0.0  \n",
       "3             NaN       NaN     True       0.0  \n",
       "4             NaN       NaN     True       0.0  "
      ]
     },
     "execution_count": 3,
     "metadata": {},
     "output_type": "execute_result"
    }
   ],
   "source": [
    "df.head()"
   ]
  },
  {
   "cell_type": "code",
   "execution_count": 25,
   "metadata": {},
   "outputs": [
    {
     "data": {
      "text/plain": [
       "'Muestreo ct Iberica/2023/Ib1/100_BTCF/IMG_0001.JPG'"
      ]
     },
     "execution_count": 25,
     "metadata": {},
     "output_type": "execute_result"
    }
   ],
   "source": [
    "df.iloc[0,0]"
   ]
  },
  {
   "cell_type": "code",
   "execution_count": 21,
   "metadata": {},
   "outputs": [
    {
     "name": "stderr",
     "output_type": "stream",
     "text": [
      "/Users/anoguera/anaconda3/envs/ENV/lib/python3.9/site-packages/tqdm/auto.py:21: TqdmWarning: IProgress not found. Please update jupyter and ipywidgets. See https://ipywidgets.readthedocs.io/en/stable/user_install.html\n",
      "  from .autonotebook import tqdm as notebook_tqdm\n",
      "/Users/anoguera/anaconda3/envs/ENV/lib/python3.9/site-packages/torchvision/io/image.py:11: UserWarning: Failed to load image Python extension: \n",
      "  warn(f\"Failed to load image Python extension: {e}\")\n"
     ]
    }
   ],
   "source": [
    "import os\n",
    "import pandas as pd\n",
    "import tkinter as tk\n",
    "from tkinter import filedialog, simpledialog, messagebox, messagebox, ttk\n",
    "from tkinter.font import Font\n",
    "import tensorflow as tf\n",
    "tf.config.set_visible_devices([], 'GPU')\n",
    "from tensorflow.keras.models import load_model\n",
    "from datetime import datetime\n",
    "from PIL import Image, ImageTk\n",
    "import sys\n",
    "import concurrent\n",
    "import concurrent.futures\n",
    "import torch\n",
    "import torchvision.transforms as transforms\n",
    "from torchvision.transforms import Resize\n",
    "import numpy as np\n",
    "import time\n",
    "import logging\n",
    "import threading"
   ]
  },
  {
   "cell_type": "code",
   "execution_count": null,
   "metadata": {},
   "outputs": [],
   "source": [
    "def procesar_imagen_dataframe(imagen, target_size=(150, 150)):\n",
    "    # Asegurarse de que la imagen es un tensor\n",
    "    if not isinstance(imagen, tf.Tensor):\n",
    "        imagen = tf.convert_to_tensor(imagen, dtype=tf.float32)\n",
    "\n",
    "    # Cambiar el tamaño si es necesario\n",
    "    if imagen.shape[:2] != target_size:\n",
    "        imagen = tf.image.resize(imagen, target_size)\n",
    "\n",
    "    # Expandir las dimensiones para simular un lote de una sola imagen\n",
    "    tensor = tf.expand_dims(imagen, axis=0)\n",
    "\n",
    "    return tensor"
   ]
  },
  {
   "cell_type": "code",
   "execution_count": 4,
   "metadata": {},
   "outputs": [],
   "source": [
    "dfTensor = pd.read_pickle('ArchivosUtiles/datasetTensores.pkl')"
   ]
  },
  {
   "cell_type": "code",
   "execution_count": 5,
   "metadata": {},
   "outputs": [],
   "source": [
    "import pickle"
   ]
  },
  {
   "cell_type": "code",
   "execution_count": 6,
   "metadata": {},
   "outputs": [
    {
     "ename": "",
     "evalue": "",
     "output_type": "error",
     "traceback": [
      "\u001b[1;31mThe Kernel crashed while executing code in the the current cell or a previous cell. Please review the code in the cell(s) to identify a possible cause of the failure. Click <a href='https://aka.ms/vscodeJupyterKernelCrash'>here</a> for more info. View Jupyter <a href='command:jupyter.viewOutput'>log</a> for further details."
     ]
    }
   ],
   "source": [
    "indice = pd.Series(dfTensor.index, index=dfTensor['Ruta']).to_dict()\n",
    "\n",
    "# Guardar el índice para su uso posterior\n",
    "with open('/Users/anoguera/Documents/GitHub/RewildingPA/Piloto2023/ArchivosUtiles/indice.pkl', 'wb') as f:\n",
    "    pickle.dump(indice, f)"
   ]
  },
  {
   "cell_type": "code",
   "execution_count": 23,
   "metadata": {},
   "outputs": [
    {
     "name": "stderr",
     "output_type": "stream",
     "text": [
      "WARNING:absl:At this time, the v2.11+ optimizer `tf.keras.optimizers.Adam` runs slowly on M1/M2 Macs, please use the legacy Keras optimizer instead, located at `tf.keras.optimizers.legacy.Adam`.\n",
      "WARNING:absl:There is a known slowdown when using v2.11+ Keras optimizers on M1/M2 Macs. Falling back to the legacy Keras optimizer, i.e., `tf.keras.optimizers.legacy.Adam`.\n"
     ]
    },
    {
     "name": "stdout",
     "output_type": "stream",
     "text": [
      "WARNING:tensorflow:Error in loading the saved optimizer state. As a result, your model is starting with a freshly initialized optimizer.\n"
     ]
    },
    {
     "name": "stderr",
     "output_type": "stream",
     "text": [
      "WARNING:tensorflow:Error in loading the saved optimizer state. As a result, your model is starting with a freshly initialized optimizer.\n"
     ]
    }
   ],
   "source": [
    "modelGuanaco = load_model('../ModelosAI/ModelosFinales/modeloGuanacoVGG16.h5')"
   ]
  },
  {
   "cell_type": "code",
   "execution_count": 43,
   "metadata": {},
   "outputs": [],
   "source": [
    "imagen = dfTensor[dfTensor['Ruta'] == 'Muestreo ct Iberica/2023/Ib1/100_BTCF/IMG_0001.JPG']['Imagen'].values[0]\n",
    "# imagen = dfTensor.loc[dfTensor['Ruta']=='Muestreo ct Iberica/2023/Ib1/100_BTCF/IMG_0001.JPG','Imagen']"
   ]
  },
  {
   "cell_type": "code",
   "execution_count": 44,
   "metadata": {},
   "outputs": [
    {
     "data": {
      "text/plain": [
       "TensorShape([150, 150, 3])"
      ]
     },
     "execution_count": 44,
     "metadata": {},
     "output_type": "execute_result"
    }
   ],
   "source": [
    "imagen.shape"
   ]
  },
  {
   "cell_type": "code",
   "execution_count": 35,
   "metadata": {},
   "outputs": [],
   "source": [
    "def procesar_imagen_dataframe(imagen, target_size=(150, 150)):\n",
    "    # Asegurarse de que la imagen es un tensor\n",
    "    if not isinstance(imagen, tf.Tensor):\n",
    "        imagen = tf.convert_to_tensor(imagen, dtype=tf.float32)\n",
    "\n",
    "    # Cambiar el tamaño si es necesario\n",
    "    if imagen.shape[:2] != target_size:\n",
    "        imagen = tf.image.resize(imagen, target_size)\n",
    "\n",
    "    # Expandir las dimensiones para simular un lote de una sola imagen\n",
    "    tensor = tf.expand_dims(imagen, axis=0)\n",
    "\n",
    "    return tensor"
   ]
  },
  {
   "cell_type": "code",
   "execution_count": 36,
   "metadata": {},
   "outputs": [],
   "source": [
    "tensor = procesar_imagen_dataframe(imagen)"
   ]
  },
  {
   "cell_type": "code",
   "execution_count": 37,
   "metadata": {},
   "outputs": [
    {
     "name": "stderr",
     "output_type": "stream",
     "text": [
      "2023-11-27 12:28:10.988933: W tensorflow/tsl/platform/profile_utils/cpu_utils.cc:128] Failed to get CPU frequency: 0 Hz\n"
     ]
    }
   ],
   "source": [
    "guanaco_proba = modelGuanaco.predict(tensor, verbose=0)[0][0]\n",
    "guanaco = int(guanaco_proba > 0.5) if guanaco_proba is not None else None"
   ]
  },
  {
   "cell_type": "code",
   "execution_count": 39,
   "metadata": {},
   "outputs": [
    {
     "data": {
      "text/plain": [
       "0"
      ]
     },
     "execution_count": 39,
     "metadata": {},
     "output_type": "execute_result"
    }
   ],
   "source": [
    "guanaco"
   ]
  },
  {
   "cell_type": "code",
   "execution_count": 45,
   "metadata": {},
   "outputs": [],
   "source": [
    "data = df"
   ]
  },
  {
   "cell_type": "code",
   "execution_count": 48,
   "metadata": {},
   "outputs": [
    {
     "data": {
      "text/plain": [
       "0"
      ]
     },
     "execution_count": 48,
     "metadata": {},
     "output_type": "execute_result"
    }
   ],
   "source": [
    "len(data.loc[(data['Animal'] == 1) & (data['Guanaco'].isna()), 'Animal'] )"
   ]
  }
 ],
 "metadata": {
  "kernelspec": {
   "display_name": "ENV",
   "language": "python",
   "name": "python3"
  },
  "language_info": {
   "codemirror_mode": {
    "name": "ipython",
    "version": 3
   },
   "file_extension": ".py",
   "mimetype": "text/x-python",
   "name": "python",
   "nbconvert_exporter": "python",
   "pygments_lexer": "ipython3",
   "version": "3.9.6"
  }
 },
 "nbformat": 4,
 "nbformat_minor": 2
}
