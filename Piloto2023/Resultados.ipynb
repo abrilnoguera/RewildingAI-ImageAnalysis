{
 "cells": [
  {
   "cell_type": "markdown",
   "metadata": {},
   "source": [
    "# Verificacion de Estimaciones para la Campaña 2023."
   ]
  },
  {
   "cell_type": "code",
   "execution_count": 2,
   "metadata": {},
   "outputs": [],
   "source": [
    "import pandas as pd\n",
    "import numpy as np\n",
    "import math"
   ]
  },
  {
   "cell_type": "code",
   "execution_count": 3,
   "metadata": {},
   "outputs": [
    {
     "name": "stderr",
     "output_type": "stream",
     "text": [
      "/var/folders/6c/17qbm4nd5318hd4bcrx68wjh0000gn/T/ipykernel_43049/1758670802.py:1: DtypeWarning: Columns (4) have mixed types. Specify dtype option on import or set low_memory=False.\n",
      "  df = pd.read_csv('Muestreo_CT_PatAzul2023.csv')\n"
     ]
    }
   ],
   "source": [
    "df = pd.read_csv('Muestreo_CT_PatAzul2023.csv')"
   ]
  },
  {
   "cell_type": "code",
   "execution_count": 4,
   "metadata": {},
   "outputs": [
    {
     "data": {
      "text/plain": [
       "Index(['Ruta', 'Sitio', 'Año', 'Camara', 'Extra', 'Archivo', 'Fecha', 'Hora',\n",
       "       'Animal_proba', 'Animal', 'Guanaco_proba', 'Guanaco', 'Especie',\n",
       "       'Cantidad_proba', 'Cantidad', 'Validar', 'Validado'],\n",
       "      dtype='object')"
      ]
     },
     "execution_count": 4,
     "metadata": {},
     "output_type": "execute_result"
    }
   ],
   "source": [
    "df.columns"
   ]
  },
  {
   "cell_type": "markdown",
   "metadata": {},
   "source": [
    "## Estimacion de Proporciones:"
   ]
  },
  {
   "cell_type": "code",
   "execution_count": 5,
   "metadata": {},
   "outputs": [
    {
     "name": "stdout",
     "output_type": "stream",
     "text": [
      "Proporcion de Imagenes con Animales:  83.45 %\n"
     ]
    }
   ],
   "source": [
    "# Proporcion de Imagenes con Animales\n",
    "pAnimal = sum(df['Animal']==1)/len(df)\n",
    "print('Proporcion de Imagenes con Animales: ', round(pAnimal * 100,2), '%')"
   ]
  },
  {
   "cell_type": "code",
   "execution_count": 6,
   "metadata": {},
   "outputs": [
    {
     "name": "stdout",
     "output_type": "stream",
     "text": [
      "Proporcion de Imagenes sin Animales:  16.55 %\n"
     ]
    }
   ],
   "source": [
    "# Proporcion de Imagenes sin Animales\n",
    "pNoAnimal = sum(df['Animal']==0)/len(df)\n",
    "print('Proporcion de Imagenes sin Animales: ', round(pNoAnimal * 100,2), '%')"
   ]
  },
  {
   "cell_type": "markdown",
   "metadata": {},
   "source": [
    "## Tiempo Total del Proceso:"
   ]
  },
  {
   "cell_type": "markdown",
   "metadata": {},
   "source": [
    "### Tiempo de Ejecucion Automatica:"
   ]
  },
  {
   "cell_type": "markdown",
   "metadata": {},
   "source": [
    "La eficiencia en los tiempos se vio perjudica por el uso de AWS para almacenar las imagenes. Al tener mayor latencia el proceso de consultar las imagenes demora más. Ademas, para consultar las imagenes se debieron tensorificar y extraer los metadatos antes de aplicar los modelos."
   ]
  },
  {
   "cell_type": "markdown",
   "metadata": {},
   "source": [
    "Se utilizaron multiprocesos concurrentes para hacer el proceso mas rapido. Y tecnicas de autoguardado para que en caso de que se rompa el proceso no se tenga que iniciar desde cero."
   ]
  },
  {
   "cell_type": "markdown",
   "metadata": {},
   "source": [
    "- Tensorificacion: 1.3 imagenes por segundo, por lo que el proceso completo llevo 25.4 horas.\n",
    "- Extraccion de Metadata: 2.39 imagenes por segundo, por lo que el proceso completo llevo 13.8 horas.\n",
    "- Modelos: XXXX\n"
   ]
  },
  {
   "cell_type": "code",
   "execution_count": 7,
   "metadata": {},
   "outputs": [
    {
     "name": "stdout",
     "output_type": "stream",
     "text": [
      "Tiempo de Automatizacion:  44.46 horas\n",
      "Tiempo de Automatizacion:  6 jornadas\n"
     ]
    }
   ],
   "source": [
    "tTensorifizacion = 1.3\n",
    "tMetadata = 2.39\n",
    "tModelos = 6.25 # CAMBIAR\n",
    "tAutom =(1/tTensorifizacion)+(1/tMetadata)+(1/tModelos)\n",
    "TAutom = (len(df) * (tAutom))/(60*60)\n",
    "print('Tiempo de Automatizacion: ', round(TAutom,2), 'horas')\n",
    "print('Tiempo de Automatizacion: ', math.ceil(TAutom/8), 'jornadas')"
   ]
  },
  {
   "cell_type": "markdown",
   "metadata": {},
   "source": [
    "Por lo que el tiempo total del proceso automatico es de **XX horas**  que son equivalentes a **XX jornadas**."
   ]
  },
  {
   "cell_type": "markdown",
   "metadata": {},
   "source": [
    "### Tiempo de Validacion:"
   ]
  },
  {
   "cell_type": "markdown",
   "metadata": {},
   "source": [
    "El porcantaje de imagenes a validar sobre el total de la base es de:"
   ]
  },
  {
   "cell_type": "code",
   "execution_count": 26,
   "metadata": {},
   "outputs": [
    {
     "name": "stdout",
     "output_type": "stream",
     "text": [
      "Proporcion de Imagenes sin Animales a Validar:  55.1 %\n"
     ]
    }
   ],
   "source": [
    "pValNoAnimal = sum((df['Validar']==1) & (df['Animal']==0))/sum(df['Animal']==0)\n",
    "print('Proporcion de Imagenes sin Animales a Validar: ', round(pValNoAnimal * 100,2), '%')"
   ]
  },
  {
   "cell_type": "code",
   "execution_count": 27,
   "metadata": {},
   "outputs": [
    {
     "name": "stdout",
     "output_type": "stream",
     "text": [
      "Proporcion de Imagenes con Animales a Validar:  93.34 %\n"
     ]
    }
   ],
   "source": [
    "pValAnimal = sum((df['Validar']==1) & (df['Animal']==1))/sum(df['Animal']==1)\n",
    "print('Proporcion de Imagenes con Animales a Validar: ', round(pValAnimal * 100,2), '%')"
   ]
  },
  {
   "cell_type": "code",
   "execution_count": 20,
   "metadata": {},
   "outputs": [
    {
     "name": "stdout",
     "output_type": "stream",
     "text": [
      "Porcentaje de Imagenes a Validar:  87.01 %\n"
     ]
    }
   ],
   "source": [
    "# Porcentaje de Imagenes a Validar:\n",
    "pVal = sum(df['Validar']==1)/len(df)\n",
    "print('Porcentaje de Imagenes a Validar: ', round(pVal * 100,2), '%')"
   ]
  },
  {
   "cell_type": "code",
   "execution_count": 9,
   "metadata": {},
   "outputs": [
    {
     "name": "stdout",
     "output_type": "stream",
     "text": [
      "Tiempo de Validacion:  39.04 horas\n",
      "Tiempo de Validacion:  5 jornadas\n"
     ]
    }
   ],
   "source": [
    "# Tiempo de Validacion:\n",
    "tVal = pVal * 1.36\n",
    "TVal = (len(df) * tVal)/(60*60)\n",
    "print('Tiempo de Validacion: ', round(TVal,2), 'horas')\n",
    "print('Tiempo de Validacion: ', math.ceil(TVal/8), 'jornadas')"
   ]
  },
  {
   "cell_type": "markdown",
   "metadata": {},
   "source": [
    "Por lo que el tiempo total del proceso de validacion es de **XX horas**  que son equivalentes a **XX jornadas**."
   ]
  },
  {
   "cell_type": "markdown",
   "metadata": {},
   "source": [
    "### Tiempo Total"
   ]
  },
  {
   "cell_type": "markdown",
   "metadata": {},
   "source": [
    "El tiempo total del proceso sera de:"
   ]
  },
  {
   "cell_type": "code",
   "execution_count": 41,
   "metadata": {},
   "outputs": [
    {
     "name": "stdout",
     "output_type": "stream",
     "text": [
      "Tiempo del Proceso:  83.5 horas\n",
      "Tiempo del Proceso:  11 jornadas\n"
     ]
    }
   ],
   "source": [
    "TTotal = TAutom + TVal\n",
    "print('Tiempo del Proceso: ', round(TTotal,2), 'horas')\n",
    "print('Tiempo del Proceso: ', math.ceil(TTotal/8), 'jornadas')"
   ]
  },
  {
   "cell_type": "markdown",
   "metadata": {},
   "source": [
    "El proceso completo requiere **XX jornadas laborales**  (XX horas). Cabe destacar que de estas solo **XX horas requieren atencion humana**"
   ]
  },
  {
   "cell_type": "markdown",
   "metadata": {},
   "source": [
    "### Cantidad de Imagenes por Hora:"
   ]
  },
  {
   "cell_type": "markdown",
   "metadata": {},
   "source": [
    "Para calcular la cantidad de imágenes que se procesaran por hora se tiene en cuenta tanto el tiempo que tarda en procesarlas los modelos predictivos cómo el tiempo que se tarda en validar aquellas que necesiten un refuerzo en su clasificación. "
   ]
  },
  {
   "cell_type": "code",
   "execution_count": 11,
   "metadata": {},
   "outputs": [
    {
     "name": "stdout",
     "output_type": "stream",
     "text": [
      "Tiempo de Automatizacion:  1.35 segundos\n",
      "Cantidad de Imagenes por Hora:  1423\n"
     ]
    }
   ],
   "source": [
    "print('Tiempo de Automatizacion: ', round(tAutom,2), 'segundos')\n",
    "\n",
    "cHora = 60*60/(tAutom + tVal)\n",
    "print('Cantidad de Imagenes por Hora: ', math.ceil(cHora))"
   ]
  },
  {
   "cell_type": "markdown",
   "metadata": {},
   "source": [
    "### Precision de Etiquetado:"
   ]
  },
  {
   "cell_type": "code",
   "execution_count": 12,
   "metadata": {},
   "outputs": [
    {
     "name": "stdout",
     "output_type": "stream",
     "text": [
      "Error de Imagenes sin Animales:  0.23 %\n"
     ]
    }
   ],
   "source": [
    "eNoAnimal = pNoAnimal * (95.94/100) * (1.45/100)\n",
    "print('Error de Imagenes sin Animales: ', round(eNoAnimal * 100,2), '%')"
   ]
  },
  {
   "cell_type": "code",
   "execution_count": 13,
   "metadata": {},
   "outputs": [
    {
     "name": "stdout",
     "output_type": "stream",
     "text": [
      "Error de Imagenes con Animales:  1.47 %\n"
     ]
    }
   ],
   "source": [
    "eAnimal = pAnimal * (49.19/100) * ((1.41/100) + (41.79/100) * (5.22/100))\n",
    "print('Error de Imagenes con Animales: ', round(eAnimal * 100,2), '%')"
   ]
  },
  {
   "cell_type": "code",
   "execution_count": 14,
   "metadata": {},
   "outputs": [
    {
     "name": "stdout",
     "output_type": "stream",
     "text": [
      "Error Automatico:  1.7 %\n"
     ]
    }
   ],
   "source": [
    "eAutomatico = eNoAnimal + eAnimal\n",
    "print('Error Automatico: ', round(eAutomatico * 100,2), '%')"
   ]
  },
  {
   "cell_type": "code",
   "execution_count": 15,
   "metadata": {},
   "outputs": [
    {
     "name": "stdout",
     "output_type": "stream",
     "text": [
      "Cantidad de Errores:  2025\n"
     ]
    }
   ],
   "source": [
    "cErrores = len(df) * eAutomatico\n",
    "print('Cantidad de Errores: ', math.ceil(cErrores))"
   ]
  },
  {
   "cell_type": "markdown",
   "metadata": {},
   "source": [
    "### Costos del Proceso:"
   ]
  },
  {
   "cell_type": "markdown",
   "metadata": {},
   "source": [
    "- Costo Falso Negativo: $300\n",
    "- Costo Falso Positivo: $1000\n",
    "- Costo Error en Especies: $1300\n",
    "- Costo Error en Cantidad: $650"
   ]
  },
  {
   "cell_type": "code",
   "execution_count": 17,
   "metadata": {},
   "outputs": [
    {
     "name": "stdout",
     "output_type": "stream",
     "text": [
      "Costo de Error de Imagenes sin Animales: $ 2.85\n"
     ]
    }
   ],
   "source": [
    "coErrorNoAnimal = (0.95/100) * 300\n",
    "print('Costo de Error de Imagenes sin Animales: $', round(coErrorNoAnimal,2))"
   ]
  },
  {
   "cell_type": "code",
   "execution_count": 18,
   "metadata": {},
   "outputs": [
    {
     "name": "stdout",
     "output_type": "stream",
     "text": [
      "Costo de Error de Imagenes con Animales: $ 13.35\n"
     ]
    }
   ],
   "source": [
    "coErrorAnimal = pAnimal * (49.19/100) * ((1.41/100) * 1300 + (41.79/100) * (5.22/100) * 650)\n",
    "print('Costo de Error de Imagenes con Animales: $', round(coErrorAnimal,2))"
   ]
  },
  {
   "cell_type": "code",
   "execution_count": 19,
   "metadata": {},
   "outputs": [
    {
     "name": "stdout",
     "output_type": "stream",
     "text": [
      "Costo de Error Automatico: $ 16.2\n"
     ]
    }
   ],
   "source": [
    "coErrorAutomatico = coErrorNoAnimal + coErrorAnimal\n",
    "print('Costo de Error Automatico: $', round(coErrorAutomatico,2))"
   ]
  },
  {
   "cell_type": "code",
   "execution_count": 33,
   "metadata": {},
   "outputs": [
    {
     "name": "stdout",
     "output_type": "stream",
     "text": [
      "Costo de Error de Validacion: $ 7.44\n"
     ]
    }
   ],
   "source": [
    "coErrorVal = pAnimal * pValAnimal * ((1.41/100) * 300 + (41.79/100) * (5.22/100) * 650)/2 + pNoAnimal * pValNoAnimal * ((0.6/100)/2) * 1000\n",
    "print('Costo de Error de Validacion: $', round(coErrorVal,2))"
   ]
  },
  {
   "cell_type": "code",
   "execution_count": 30,
   "metadata": {},
   "outputs": [
    {
     "name": "stdout",
     "output_type": "stream",
     "text": [
      "Costo Operacional de Validacion: $ 0.38\n"
     ]
    }
   ],
   "source": [
    "coOperacionalVal = pVal * tVal * 10730/(8*60*60)\n",
    "print('Costo Operacional de Validacion: $', round(coOperacionalVal,2))"
   ]
  },
  {
   "cell_type": "code",
   "execution_count": 31,
   "metadata": {},
   "outputs": [
    {
     "name": "stdout",
     "output_type": "stream",
     "text": [
      "Costo de Servicio: $ 1100000\n"
     ]
    }
   ],
   "source": [
    "coServicio = 1100000\n",
    "print('Costo de Servicio: $', round(coServicio,2))"
   ]
  },
  {
   "cell_type": "code",
   "execution_count": 35,
   "metadata": {},
   "outputs": [
    {
     "name": "stdout",
     "output_type": "stream",
     "text": [
      "Costo Total: $ 3953016.44\n"
     ]
    }
   ],
   "source": [
    "coTotal = len(df) * (coErrorAutomatico + coErrorVal + coOperacionalVal) + coServicio\n",
    "print('Costo Total: $', round(coTotal,2))"
   ]
  },
  {
   "cell_type": "markdown",
   "metadata": {},
   "source": [
    "## KPIs"
   ]
  },
  {
   "cell_type": "markdown",
   "metadata": {},
   "source": [
    "### Tiempo Total del Proceso"
   ]
  },
  {
   "cell_type": "code",
   "execution_count": 46,
   "metadata": {},
   "outputs": [
    {
     "name": "stdout",
     "output_type": "stream",
     "text": [
      "Tiempo Total: \n",
      "- Clasificacion Manual: 152.75 horas\n",
      "- Solucion Semi-Automatica: 83.5 horas\n",
      "Variacion Porcentual:  -45.34 %\n"
     ]
    }
   ],
   "source": [
    "print('Tiempo Total: ')\n",
    "print('- Clasificacion Manual: 152.75 horas')\n",
    "print('- Solucion Semi-Automatica:', round(TTotal,2), 'horas')\n",
    "print('Variacion Porcentual: ', round((TTotal - 152.75)/152.75 * 100,2), '%')"
   ]
  },
  {
   "cell_type": "code",
   "execution_count": 44,
   "metadata": {},
   "outputs": [
    {
     "name": "stdout",
     "output_type": "stream",
     "text": [
      "Jornadas Laborales:\n",
      "- Clasificacion Manual: 19.1 jornadas\n",
      "- Solucion Semi-Automatica:\n",
      "   - Jornadas Ocupadas:  4.9 jornadas\n",
      "    Variacion Porcentual:  -74.45 %\n",
      "    - Jornadas Totales:  10.4 jornadas\n",
      "    Variacion Porcentual:  -45.36 %\n"
     ]
    }
   ],
   "source": [
    "print('Jornadas Laborales:')\n",
    "print('- Clasificacion Manual: 19.1 jornadas')\n",
    "print('- Solucion Semi-Automatica:')\n",
    "print('   - Jornadas Ocupadas: ', round(TVal/8,1), 'jornadas')\n",
    "print('    Variacion Porcentual: ', round((TVal/8 - 19.1)/19.1 * 100,2), '%')\n",
    "print('    - Jornadas Totales: ', round(TTotal/8,1), 'jornadas')\n",
    "print('    Variacion Porcentual: ', round((TTotal/8 - 19.1)/19.1 * 100,2), '%')"
   ]
  },
  {
   "cell_type": "markdown",
   "metadata": {},
   "source": [
    "### Cantidad de Imagenes Analizadas por Hora:"
   ]
  },
  {
   "cell_type": "code",
   "execution_count": 48,
   "metadata": {},
   "outputs": [
    {
     "name": "stdout",
     "output_type": "stream",
     "text": [
      "Cantidad de Imagenes por Hora: \n",
      "- Clasificacion Manual: 777 imagenes/hr\n",
      "- Solucion Semi-Automatica:  1423 imagenes/hr\n",
      "Variacion Porcentual:  83.06 %\n"
     ]
    }
   ],
   "source": [
    "print('Cantidad de Imagenes por Hora: ')\n",
    "print('- Clasificacion Manual: 777 imagenes/hr')\n",
    "print('- Solucion Semi-Automatica: ', math.ceil(cHora), 'imagenes/hr')\n",
    "print('Variacion Porcentual: ', round((cHora - 777)/777 * 100,2), '%')"
   ]
  },
  {
   "cell_type": "markdown",
   "metadata": {},
   "source": [
    "### Costo del Proceso:"
   ]
  },
  {
   "cell_type": "code",
   "execution_count": 50,
   "metadata": {},
   "outputs": [
    {
     "name": "stdout",
     "output_type": "stream",
     "text": [
      "Costo del Proceso:\n",
      "- Clasificacion Manual: $ 6722325.4\n",
      "- Solucion Semi-Automatica: $ 3953016.44\n",
      "Variacion Porcentual:  -41.2 %\n"
     ]
    }
   ],
   "source": [
    "print('Costo del Proceso:')\n",
    "print('- Clasificacion Manual: $ 6722325.4')\n",
    "print('- Solucion Semi-Automatica: $', round(coTotal,2))\n",
    "print('Variacion Porcentual: ', round((coTotal - 6722325.4)/6722325.4 * 100,2), '%')"
   ]
  },
  {
   "cell_type": "markdown",
   "metadata": {},
   "source": [
    "### Ratio de Imagenes Utiles:"
   ]
  },
  {
   "cell_type": "code",
   "execution_count": 51,
   "metadata": {},
   "outputs": [
    {
     "name": "stdout",
     "output_type": "stream",
     "text": [
      "Ratio de Imagenes Utiles: \n",
      "- Clasificacion Manual: 0.79%\n",
      "- Solucion Semi-Automatica: 100%\n",
      "Variacion Porcentual:  12558.23 %\n"
     ]
    }
   ],
   "source": [
    "print('Ratio de Imagenes Utiles: ')\n",
    "print('- Clasificacion Manual: 0.79%')\n",
    "print('- Solucion Semi-Automatica: 100%')\n",
    "print('Variacion Porcentual: ', round((100 - 0.79)/0.79 * 100,2), '%')"
   ]
  }
 ],
 "metadata": {
  "kernelspec": {
   "display_name": "ENV",
   "language": "python",
   "name": "python3"
  },
  "language_info": {
   "codemirror_mode": {
    "name": "ipython",
    "version": 3
   },
   "file_extension": ".py",
   "mimetype": "text/x-python",
   "name": "python",
   "nbconvert_exporter": "python",
   "pygments_lexer": "ipython3",
   "version": "3.9.6"
  }
 },
 "nbformat": 4,
 "nbformat_minor": 2
}
