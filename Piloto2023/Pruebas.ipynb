{
 "cells": [
  {
   "cell_type": "code",
   "execution_count": 2,
   "metadata": {},
   "outputs": [],
   "source": [
    "import seaborn as sns\n",
    "import pandas as pd\n",
    "import numpy as np"
   ]
  },
  {
   "cell_type": "code",
   "execution_count": 23,
   "metadata": {},
   "outputs": [
    {
     "name": "stderr",
     "output_type": "stream",
     "text": [
      "/var/folders/6c/17qbm4nd5318hd4bcrx68wjh0000gn/T/ipykernel_11588/1758670802.py:1: DtypeWarning: Columns (4) have mixed types. Specify dtype option on import or set low_memory=False.\n",
      "  df = pd.read_csv('Muestreo_CT_PatAzul2023.csv')\n"
     ]
    }
   ],
   "source": [
    "df = pd.read_csv('Muestreo_CT_PatAzul2023.csv')"
   ]
  },
  {
   "cell_type": "code",
   "execution_count": 18,
   "metadata": {},
   "outputs": [
    {
     "name": "stdout",
     "output_type": "stream",
     "text": [
      "<class 'pandas.core.frame.DataFrame'>\n",
      "Index: 118765 entries, 0 to 118764\n",
      "Data columns (total 17 columns):\n",
      " #   Column          Non-Null Count   Dtype  \n",
      "---  ------          --------------   -----  \n",
      " 0   Ruta            118765 non-null  object \n",
      " 1   Sitio           118765 non-null  object \n",
      " 2   Año             118765 non-null  object \n",
      " 3   Camara          118765 non-null  object \n",
      " 4   Extra           118765 non-null  object \n",
      " 5   Archivo         118765 non-null  object \n",
      " 6   Fecha           118751 non-null  object \n",
      " 7   Hora            118751 non-null  object \n",
      " 8   Animal_proba    110011 non-null  float32\n",
      " 9   Animal          110011 non-null  float64\n",
      " 10  Guanaco_proba   71383 non-null   float64\n",
      " 11  Guanaco         71383 non-null   float64\n",
      " 12  Especie         8789 non-null    object \n",
      " 13  Cantidad_proba  8789 non-null    float64\n",
      " 14  Cantidad        8789 non-null    float64\n",
      " 15  Validar         110011 non-null  object \n",
      " 16  Validado        110011 non-null  float64\n",
      "dtypes: float32(1), float64(6), object(10)\n",
      "memory usage: 15.9+ MB\n"
     ]
    }
   ],
   "source": [
    "df.info()"
   ]
  },
  {
   "cell_type": "code",
   "execution_count": 5,
   "metadata": {},
   "outputs": [
    {
     "data": {
      "text/html": [
       "<div>\n",
       "<style scoped>\n",
       "    .dataframe tbody tr th:only-of-type {\n",
       "        vertical-align: middle;\n",
       "    }\n",
       "\n",
       "    .dataframe tbody tr th {\n",
       "        vertical-align: top;\n",
       "    }\n",
       "\n",
       "    .dataframe thead th {\n",
       "        text-align: right;\n",
       "    }\n",
       "</style>\n",
       "<table border=\"1\" class=\"dataframe\">\n",
       "  <thead>\n",
       "    <tr style=\"text-align: right;\">\n",
       "      <th></th>\n",
       "      <th>Ruta</th>\n",
       "      <th>Sitio</th>\n",
       "      <th>Año</th>\n",
       "      <th>Camara</th>\n",
       "      <th>Extra</th>\n",
       "      <th>Archivo</th>\n",
       "      <th>Fecha</th>\n",
       "      <th>Hora</th>\n",
       "      <th>Animal_proba</th>\n",
       "      <th>Animal</th>\n",
       "      <th>Guanaco_proba</th>\n",
       "      <th>Guanaco</th>\n",
       "      <th>Especie</th>\n",
       "      <th>Cantidad_proba</th>\n",
       "      <th>Cantidad</th>\n",
       "      <th>Validar</th>\n",
       "      <th>Validado</th>\n",
       "    </tr>\n",
       "  </thead>\n",
       "  <tbody>\n",
       "    <tr>\n",
       "      <th>0</th>\n",
       "      <td>Muestreo ct Iberica/2023/Ib1/100_BTCF/IMG_0001...</td>\n",
       "      <td>Muestreo ct Iberica</td>\n",
       "      <td>2023</td>\n",
       "      <td>Ib1</td>\n",
       "      <td>100_BTCF</td>\n",
       "      <td>IMG_0001.JPG</td>\n",
       "      <td>2023-02-08</td>\n",
       "      <td>12:22:51</td>\n",
       "      <td>0.939226</td>\n",
       "      <td>1.0</td>\n",
       "      <td>NaN</td>\n",
       "      <td>NaN</td>\n",
       "      <td>None</td>\n",
       "      <td>NaN</td>\n",
       "      <td>NaN</td>\n",
       "      <td>True</td>\n",
       "      <td>0.0</td>\n",
       "    </tr>\n",
       "    <tr>\n",
       "      <th>1</th>\n",
       "      <td>Muestreo ct Iberica/2023/Ib1/100_BTCF/IMG_0002...</td>\n",
       "      <td>Muestreo ct Iberica</td>\n",
       "      <td>2023</td>\n",
       "      <td>Ib1</td>\n",
       "      <td>100_BTCF</td>\n",
       "      <td>IMG_0002.JPG</td>\n",
       "      <td>2023-02-08</td>\n",
       "      <td>12:22:53</td>\n",
       "      <td>0.009811</td>\n",
       "      <td>0.0</td>\n",
       "      <td>NaN</td>\n",
       "      <td>NaN</td>\n",
       "      <td>None</td>\n",
       "      <td>NaN</td>\n",
       "      <td>NaN</td>\n",
       "      <td>False</td>\n",
       "      <td>0.0</td>\n",
       "    </tr>\n",
       "    <tr>\n",
       "      <th>2</th>\n",
       "      <td>Muestreo ct Iberica/2023/Ib1/100_BTCF/IMG_0004...</td>\n",
       "      <td>Muestreo ct Iberica</td>\n",
       "      <td>2023</td>\n",
       "      <td>Ib1</td>\n",
       "      <td>100_BTCF</td>\n",
       "      <td>IMG_0004.JPG</td>\n",
       "      <td>2023-02-08</td>\n",
       "      <td>12:22:59</td>\n",
       "      <td>0.672598</td>\n",
       "      <td>1.0</td>\n",
       "      <td>NaN</td>\n",
       "      <td>NaN</td>\n",
       "      <td>None</td>\n",
       "      <td>NaN</td>\n",
       "      <td>NaN</td>\n",
       "      <td>True</td>\n",
       "      <td>0.0</td>\n",
       "    </tr>\n",
       "    <tr>\n",
       "      <th>3</th>\n",
       "      <td>Muestreo ct Iberica/2023/Ib1/100_BTCF/IMG_0003...</td>\n",
       "      <td>Muestreo ct Iberica</td>\n",
       "      <td>2023</td>\n",
       "      <td>Ib1</td>\n",
       "      <td>100_BTCF</td>\n",
       "      <td>IMG_0003.JPG</td>\n",
       "      <td>2023-02-08</td>\n",
       "      <td>12:22:55</td>\n",
       "      <td>0.967046</td>\n",
       "      <td>1.0</td>\n",
       "      <td>0.000047</td>\n",
       "      <td>0.0</td>\n",
       "      <td>None</td>\n",
       "      <td>NaN</td>\n",
       "      <td>NaN</td>\n",
       "      <td>True</td>\n",
       "      <td>0.0</td>\n",
       "    </tr>\n",
       "    <tr>\n",
       "      <th>4</th>\n",
       "      <td>Muestreo ct Iberica/2023/Ib1/100_BTCF/IMG_0006...</td>\n",
       "      <td>Muestreo ct Iberica</td>\n",
       "      <td>2023</td>\n",
       "      <td>Ib1</td>\n",
       "      <td>100_BTCF</td>\n",
       "      <td>IMG_0006.JPG</td>\n",
       "      <td>2023-02-08</td>\n",
       "      <td>12:23:04</td>\n",
       "      <td>0.999969</td>\n",
       "      <td>1.0</td>\n",
       "      <td>0.000003</td>\n",
       "      <td>0.0</td>\n",
       "      <td>None</td>\n",
       "      <td>NaN</td>\n",
       "      <td>NaN</td>\n",
       "      <td>True</td>\n",
       "      <td>0.0</td>\n",
       "    </tr>\n",
       "  </tbody>\n",
       "</table>\n",
       "</div>"
      ],
      "text/plain": [
       "                                                Ruta                Sitio  \\\n",
       "0  Muestreo ct Iberica/2023/Ib1/100_BTCF/IMG_0001...  Muestreo ct Iberica   \n",
       "1  Muestreo ct Iberica/2023/Ib1/100_BTCF/IMG_0002...  Muestreo ct Iberica   \n",
       "2  Muestreo ct Iberica/2023/Ib1/100_BTCF/IMG_0004...  Muestreo ct Iberica   \n",
       "3  Muestreo ct Iberica/2023/Ib1/100_BTCF/IMG_0003...  Muestreo ct Iberica   \n",
       "4  Muestreo ct Iberica/2023/Ib1/100_BTCF/IMG_0006...  Muestreo ct Iberica   \n",
       "\n",
       "    Año Camara     Extra       Archivo       Fecha      Hora  Animal_proba  \\\n",
       "0  2023    Ib1  100_BTCF  IMG_0001.JPG  2023-02-08  12:22:51      0.939226   \n",
       "1  2023    Ib1  100_BTCF  IMG_0002.JPG  2023-02-08  12:22:53      0.009811   \n",
       "2  2023    Ib1  100_BTCF  IMG_0004.JPG  2023-02-08  12:22:59      0.672598   \n",
       "3  2023    Ib1  100_BTCF  IMG_0003.JPG  2023-02-08  12:22:55      0.967046   \n",
       "4  2023    Ib1  100_BTCF  IMG_0006.JPG  2023-02-08  12:23:04      0.999969   \n",
       "\n",
       "   Animal  Guanaco_proba  Guanaco Especie  Cantidad_proba  Cantidad Validar  \\\n",
       "0     1.0            NaN      NaN    None             NaN       NaN    True   \n",
       "1     0.0            NaN      NaN    None             NaN       NaN   False   \n",
       "2     1.0            NaN      NaN    None             NaN       NaN    True   \n",
       "3     1.0       0.000047      0.0    None             NaN       NaN    True   \n",
       "4     1.0       0.000003      0.0    None             NaN       NaN    True   \n",
       "\n",
       "   Validado  \n",
       "0       0.0  \n",
       "1       0.0  \n",
       "2       0.0  \n",
       "3       0.0  \n",
       "4       0.0  "
      ]
     },
     "execution_count": 5,
     "metadata": {},
     "output_type": "execute_result"
    }
   ],
   "source": [
    "df.head()"
   ]
  },
  {
   "cell_type": "code",
   "execution_count": 6,
   "metadata": {},
   "outputs": [
    {
     "data": {
      "text/plain": [
       "0         Muestreo ct Iberica/2023/Ib1/100_BTCF/IMG_0001...\n",
       "1         Muestreo ct Iberica/2023/Ib1/100_BTCF/IMG_0002...\n",
       "2         Muestreo ct Iberica/2023/Ib1/100_BTCF/IMG_0004...\n",
       "3         Muestreo ct Iberica/2023/Ib1/100_BTCF/IMG_0003...\n",
       "4         Muestreo ct Iberica/2023/Ib1/100_BTCF/IMG_0006...\n",
       "                                ...                        \n",
       "118759    Muestreo ct sauce/CT S 2023/S9 (las fotos dice...\n",
       "118761    Muestreo ct sauce/CT S 2023/S9 (las fotos dice...\n",
       "118762    Muestreo ct sauce/CT S 2023/S9 (las fotos dice...\n",
       "118763    Muestreo ct sauce/CT S 2023/S9 (las fotos dice...\n",
       "118764    Muestreo ct sauce/CT S 2023/S9 (las fotos dice...\n",
       "Name: Ruta, Length: 110011, dtype: object"
      ]
     },
     "execution_count": 6,
     "metadata": {},
     "output_type": "execute_result"
    }
   ],
   "source": [
    "df[df['Animal'].notna()]['Ruta']"
   ]
  },
  {
   "cell_type": "code",
   "execution_count": 16,
   "metadata": {},
   "outputs": [
    {
     "ename": "KeyError",
     "evalue": "'Animal'",
     "output_type": "error",
     "traceback": [
      "\u001b[0;31m---------------------------------------------------------------------------\u001b[0m",
      "\u001b[0;31mKeyError\u001b[0m                                  Traceback (most recent call last)",
      "File \u001b[0;32m~/anaconda3/envs/rewilding/lib/python3.9/site-packages/pandas/core/indexes/base.py:3790\u001b[0m, in \u001b[0;36mIndex.get_loc\u001b[0;34m(self, key)\u001b[0m\n\u001b[1;32m   3789\u001b[0m \u001b[39mtry\u001b[39;00m:\n\u001b[0;32m-> 3790\u001b[0m     \u001b[39mreturn\u001b[39;00m \u001b[39mself\u001b[39;49m\u001b[39m.\u001b[39;49m_engine\u001b[39m.\u001b[39;49mget_loc(casted_key)\n\u001b[1;32m   3791\u001b[0m \u001b[39mexcept\u001b[39;00m \u001b[39mKeyError\u001b[39;00m \u001b[39mas\u001b[39;00m err:\n",
      "File \u001b[0;32mindex.pyx:152\u001b[0m, in \u001b[0;36mpandas._libs.index.IndexEngine.get_loc\u001b[0;34m()\u001b[0m\n",
      "File \u001b[0;32mindex.pyx:181\u001b[0m, in \u001b[0;36mpandas._libs.index.IndexEngine.get_loc\u001b[0;34m()\u001b[0m\n",
      "File \u001b[0;32mpandas/_libs/hashtable_class_helper.pxi:7080\u001b[0m, in \u001b[0;36mpandas._libs.hashtable.PyObjectHashTable.get_item\u001b[0;34m()\u001b[0m\n",
      "File \u001b[0;32mpandas/_libs/hashtable_class_helper.pxi:7088\u001b[0m, in \u001b[0;36mpandas._libs.hashtable.PyObjectHashTable.get_item\u001b[0;34m()\u001b[0m\n",
      "\u001b[0;31mKeyError\u001b[0m: 'Animal'",
      "\nThe above exception was the direct cause of the following exception:\n",
      "\u001b[0;31mKeyError\u001b[0m                                  Traceback (most recent call last)",
      "\u001b[1;32m/Users/anoguera/Documents/GitHub/RewildingPA/Piloto2023/Pruebas.ipynb Cell 6\u001b[0m line \u001b[0;36m2\n\u001b[1;32m      <a href='vscode-notebook-cell:/Users/anoguera/Documents/GitHub/RewildingPA/Piloto2023/Pruebas.ipynb#W5sZmlsZQ%3D%3D?line=0'>1</a>\u001b[0m \u001b[39m# Ordeno por Animal_proba descending\u001b[39;00m\n\u001b[0;32m----> <a href='vscode-notebook-cell:/Users/anoguera/Documents/GitHub/RewildingPA/Piloto2023/Pruebas.ipynb#W5sZmlsZQ%3D%3D?line=1'>2</a>\u001b[0m df \u001b[39m=\u001b[39m df[df[\u001b[39m'\u001b[39;49m\u001b[39mAnimal\u001b[39;49m\u001b[39m'\u001b[39;49m]\u001b[39m.\u001b[39mnotna()]\n\u001b[1;32m      <a href='vscode-notebook-cell:/Users/anoguera/Documents/GitHub/RewildingPA/Piloto2023/Pruebas.ipynb#W5sZmlsZQ%3D%3D?line=2'>3</a>\u001b[0m df\u001b[39m.\u001b[39msort_values(by\u001b[39m=\u001b[39m\u001b[39m'\u001b[39m\u001b[39mAnimal_proba\u001b[39m\u001b[39m'\u001b[39m, ascending\u001b[39m=\u001b[39m\u001b[39mFalse\u001b[39;00m)\n",
      "File \u001b[0;32m~/anaconda3/envs/rewilding/lib/python3.9/site-packages/pandas/core/frame.py:3893\u001b[0m, in \u001b[0;36mDataFrame.__getitem__\u001b[0;34m(self, key)\u001b[0m\n\u001b[1;32m   3891\u001b[0m \u001b[39mif\u001b[39;00m \u001b[39mself\u001b[39m\u001b[39m.\u001b[39mcolumns\u001b[39m.\u001b[39mnlevels \u001b[39m>\u001b[39m \u001b[39m1\u001b[39m:\n\u001b[1;32m   3892\u001b[0m     \u001b[39mreturn\u001b[39;00m \u001b[39mself\u001b[39m\u001b[39m.\u001b[39m_getitem_multilevel(key)\n\u001b[0;32m-> 3893\u001b[0m indexer \u001b[39m=\u001b[39m \u001b[39mself\u001b[39;49m\u001b[39m.\u001b[39;49mcolumns\u001b[39m.\u001b[39;49mget_loc(key)\n\u001b[1;32m   3894\u001b[0m \u001b[39mif\u001b[39;00m is_integer(indexer):\n\u001b[1;32m   3895\u001b[0m     indexer \u001b[39m=\u001b[39m [indexer]\n",
      "File \u001b[0;32m~/anaconda3/envs/rewilding/lib/python3.9/site-packages/pandas/core/indexes/base.py:3797\u001b[0m, in \u001b[0;36mIndex.get_loc\u001b[0;34m(self, key)\u001b[0m\n\u001b[1;32m   3792\u001b[0m     \u001b[39mif\u001b[39;00m \u001b[39misinstance\u001b[39m(casted_key, \u001b[39mslice\u001b[39m) \u001b[39mor\u001b[39;00m (\n\u001b[1;32m   3793\u001b[0m         \u001b[39misinstance\u001b[39m(casted_key, abc\u001b[39m.\u001b[39mIterable)\n\u001b[1;32m   3794\u001b[0m         \u001b[39mand\u001b[39;00m \u001b[39many\u001b[39m(\u001b[39misinstance\u001b[39m(x, \u001b[39mslice\u001b[39m) \u001b[39mfor\u001b[39;00m x \u001b[39min\u001b[39;00m casted_key)\n\u001b[1;32m   3795\u001b[0m     ):\n\u001b[1;32m   3796\u001b[0m         \u001b[39mraise\u001b[39;00m InvalidIndexError(key)\n\u001b[0;32m-> 3797\u001b[0m     \u001b[39mraise\u001b[39;00m \u001b[39mKeyError\u001b[39;00m(key) \u001b[39mfrom\u001b[39;00m \u001b[39merr\u001b[39;00m\n\u001b[1;32m   3798\u001b[0m \u001b[39mexcept\u001b[39;00m \u001b[39mTypeError\u001b[39;00m:\n\u001b[1;32m   3799\u001b[0m     \u001b[39m# If we have a listlike key, _check_indexing_error will raise\u001b[39;00m\n\u001b[1;32m   3800\u001b[0m     \u001b[39m#  InvalidIndexError. Otherwise we fall through and re-raise\u001b[39;00m\n\u001b[1;32m   3801\u001b[0m     \u001b[39m#  the TypeError.\u001b[39;00m\n\u001b[1;32m   3802\u001b[0m     \u001b[39mself\u001b[39m\u001b[39m.\u001b[39m_check_indexing_error(key)\n",
      "\u001b[0;31mKeyError\u001b[0m: 'Animal'"
     ]
    }
   ],
   "source": [
    "# Ordeno por Animal_proba descending\n",
    "df = df[df['Animal'].notna()]\n",
    "df.sort_values(by='Animal_proba', ascending=False)"
   ]
  },
  {
   "cell_type": "code",
   "execution_count": 3,
   "metadata": {},
   "outputs": [],
   "source": [
    "df = pd.read_csv('ArchivosUtiles/Muestreo_CT_PatAzul.csv', low_memory=False)"
   ]
  },
  {
   "cell_type": "code",
   "execution_count": 27,
   "metadata": {},
   "outputs": [
    {
     "name": "stdout",
     "output_type": "stream",
     "text": [
      "<class 'pandas.core.frame.DataFrame'>\n",
      "RangeIndex: 118765 entries, 0 to 118764\n",
      "Data columns (total 8 columns):\n",
      " #   Column   Non-Null Count   Dtype \n",
      "---  ------   --------------   ----- \n",
      " 0   Ruta     118765 non-null  object\n",
      " 1   Sitio    118765 non-null  object\n",
      " 2   Año      118765 non-null  object\n",
      " 3   Camara   118765 non-null  object\n",
      " 4   Extra    3662 non-null    object\n",
      " 5   Archivo  118765 non-null  object\n",
      " 6   Fecha    118751 non-null  object\n",
      " 7   Hora     118751 non-null  object\n",
      "dtypes: object(8)\n",
      "memory usage: 7.2+ MB\n"
     ]
    }
   ],
   "source": [
    "df.info()"
   ]
  },
  {
   "cell_type": "code",
   "execution_count": 3,
   "metadata": {},
   "outputs": [
    {
     "ename": "ModuleNotFoundError",
     "evalue": "No module named 'tensorflow'",
     "output_type": "error",
     "traceback": [
      "\u001b[0;31m---------------------------------------------------------------------------\u001b[0m",
      "\u001b[0;31mModuleNotFoundError\u001b[0m                       Traceback (most recent call last)",
      "\u001b[1;32m/Users/anoguera/Documents/GitHub/RewildingPA/Piloto2023/Pruebas.ipynb Cell 9\u001b[0m line \u001b[0;36m1\n\u001b[0;32m----> <a href='vscode-notebook-cell:/Users/anoguera/Documents/GitHub/RewildingPA/Piloto2023/Pruebas.ipynb#X12sZmlsZQ%3D%3D?line=0'>1</a>\u001b[0m \u001b[39mimport\u001b[39;00m \u001b[39mtensorflow\u001b[39;00m \u001b[39mas\u001b[39;00m \u001b[39mtf\u001b[39;00m\n\u001b[1;32m      <a href='vscode-notebook-cell:/Users/anoguera/Documents/GitHub/RewildingPA/Piloto2023/Pruebas.ipynb#X12sZmlsZQ%3D%3D?line=1'>2</a>\u001b[0m \u001b[39mprint\u001b[39m(tf\u001b[39m.\u001b[39m__version__)\n",
      "\u001b[0;31mModuleNotFoundError\u001b[0m: No module named 'tensorflow'"
     ]
    }
   ],
   "source": [
    "import tensorflow as tf\n",
    "print(tf.__version__)"
   ]
  },
  {
   "cell_type": "code",
   "execution_count": 3,
   "metadata": {},
   "outputs": [
    {
     "name": "stderr",
     "output_type": "stream",
     "text": [
      "2023-11-26 12:41:36.199861: I tensorflow/core/platform/cpu_feature_guard.cc:182] This TensorFlow binary is optimized to use available CPU instructions in performance-critical operations.\n",
      "To enable the following instructions: SSE4.1 SSE4.2, in other operations, rebuild TensorFlow with the appropriate compiler flags.\n"
     ]
    }
   ],
   "source": [
    "dfTensor = pd.read_pickle('ArchivosUtiles/datasetTensores.pkl')"
   ]
  },
  {
   "cell_type": "code",
   "execution_count": 4,
   "metadata": {},
   "outputs": [
    {
     "name": "stdout",
     "output_type": "stream",
     "text": [
      "<class 'pandas.core.frame.DataFrame'>\n",
      "RangeIndex: 118765 entries, 0 to 118764\n",
      "Data columns (total 2 columns):\n",
      " #   Column  Non-Null Count   Dtype \n",
      "---  ------  --------------   ----- \n",
      " 0   Ruta    118765 non-null  object\n",
      " 1   Imagen  118765 non-null  object\n",
      "dtypes: object(2)\n",
      "memory usage: 1.8+ MB\n"
     ]
    }
   ],
   "source": [
    "dfTensor.info()"
   ]
  }
 ],
 "metadata": {
  "kernelspec": {
   "display_name": "ENV",
   "language": "python",
   "name": "python3"
  },
  "language_info": {
   "codemirror_mode": {
    "name": "ipython",
    "version": 3
   },
   "file_extension": ".py",
   "mimetype": "text/x-python",
   "name": "python",
   "nbconvert_exporter": "python",
   "pygments_lexer": "ipython3",
   "version": "3.9.6"
  }
 },
 "nbformat": 4,
 "nbformat_minor": 2
}
